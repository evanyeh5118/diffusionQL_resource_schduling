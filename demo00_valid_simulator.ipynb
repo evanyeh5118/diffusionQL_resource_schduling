{
 "cells": [
  {
   "cell_type": "code",
   "execution_count": 1,
   "id": "2dcf4ab7",
   "metadata": {},
   "outputs": [],
   "source": [
    "import os\n",
    "os.environ[\"KMP_DUPLICATE_LIB_OK\"]=\"TRUE\"\n",
    "\n",
    "import numpy as np\n",
    "import matplotlib.pyplot as plt\n",
    "import pickle\n",
    "\n",
    "from Configs import getSubAgentConfig, visualizeSubAgentConfig\n",
    "from Environment.EnvironmentSim import createEnv"
   ]
  },
  {
   "cell_type": "code",
   "execution_count": 2,
   "id": "8b1d42c5",
   "metadata": {},
   "outputs": [
    {
     "name": "stdout",
     "output_type": "stream",
     "text": [
      "==================================================\n",
      "Environment Configuration\n",
      "==================================================\n",
      "Number of Users:        4\n",
      "Window Length:          200\n",
      "Dataflow:               thumb_fr\n",
      "N_aggregation:          4\n",
      "N_r:                    5\n",
      "Resource Bar:           5\n",
      "Bandwidth:              80\n",
      "Sigmoid K List:         [0.3]\n",
      "Sigmoid S List:         [10.0]\n",
      "Random Seed:            999\n",
      "==================================================\n"
     ]
    }
   ],
   "source": [
    "configIdx = 0\n",
    "subAgentParams = getSubAgentConfig(configIdx)\n",
    "visualizeSubAgentConfig(subAgentParams)\n",
    "trafficDataParentPath = f'Datasets/TrafficDataset/TrafficData'\n",
    "env = createEnv(subAgentParams, trafficDataParentPath)\n",
    "env.selectMode(mode=\"train\", type=\"data\")\n"
   ]
  },
  {
   "cell_type": "code",
   "execution_count": 4,
   "id": "58f0684b",
   "metadata": {},
   "outputs": [
    {
     "name": "stdout",
     "output_type": "stream",
     "text": [
      "80.0\n",
      "[20. 20. 20. 20.]\n",
      "0.04737054401711648\n"
     ]
    }
   ],
   "source": [
    "a = 1.0*np.ones(subAgentParams['N_user'])*(subAgentParams['B']/subAgentParams['N_user'])\n",
    "print(np.sum(a))\n",
    "print(a)\n",
    "N_iter = 250\n",
    "r_total = 0\n",
    "for i in range(N_iter):\n",
    "    env.updateStates()\n",
    "    u, u_predicted = env.getStates()\n",
    "    r = env.applyActions(a)\n",
    "    r_total += r\n",
    "print(r_total/N_iter)"
   ]
  }
 ],
 "metadata": {
  "kernelspec": {
   "display_name": "traffic_predictor_3_9",
   "language": "python",
   "name": "python3"
  },
  "language_info": {
   "codemirror_mode": {
    "name": "ipython",
    "version": 3
   },
   "file_extension": ".py",
   "mimetype": "text/x-python",
   "name": "python",
   "nbconvert_exporter": "python",
   "pygments_lexer": "ipython3",
   "version": "3.9.20"
  }
 },
 "nbformat": 4,
 "nbformat_minor": 5
}
