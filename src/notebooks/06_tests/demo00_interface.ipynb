{
 "cells": [
  {
   "cell_type": "code",
   "execution_count": null,
   "metadata": {},
   "outputs": [],
   "source": [
    "import os\n",
    "os.environ[\"KMP_DUPLICATE_LIB_OK\"]=\"TRUE\"\n",
    "\n",
    "import sys\n",
    "sys.path.insert(0, '../../../')\n",
    "\n",
    "import numpy as np\n",
    "import matplotlib.pyplot as plt\n",
    "import pickle\n",
    "import torch\n",
    "\n",
    "from src.difsched.config.Configs.EnvConfigs import getEnvConfig, visualizeEnvConfig\n",
    "from src.difsched.env.Environment.EnvironmentSim import createEnv\n",
    "from src.difsched.utils.Helpers.EnvInterface import EnvInterface"
   ]
  },
  {
   "cell_type": "code",
   "execution_count": 4,
   "metadata": {},
   "outputs": [
    {
     "name": "stdout",
     "output_type": "stream",
     "text": [
      "==================================================\n",
      "Environment Configuration\n",
      "==================================================\n",
      "Number of Users:        8\n",
      "Window Length:          200\n",
      "Dataflow:               thumb_fr\n",
      "Sigmoid K List:         [0.1, 0.2, 0.3, 0.4, 0.5]\n",
      "Sigmoid S List:         [10.0, 10.0, 10.0, 10.0, 10.0]\n",
      "Resource Bar:           5\n",
      "Bandwidth:              100\n",
      "Sub Agents:             [[0, 0]]\n",
      "User Map:               [[0, 1, 2, 3], [4, 5, 6, 7]]\n",
      "==================================================\n"
     ]
    }
   ],
   "source": [
    "configIdx = 0\n",
    "envParams = getEnvConfig(configIdx)\n",
    "visualizeEnvConfig(envParams)\n",
    "trafficDataParentPath = f'../../../data/raw/traffic'\n",
    "env = createEnv(envParams, trafficDataParentPath)\n",
    "env.selectMode(mode=\"train\", type=\"data\")"
   ]
  },
  {
   "cell_type": "code",
   "execution_count": 5,
   "metadata": {},
   "outputs": [
    {
     "name": "stdout",
     "output_type": "stream",
     "text": [
      "Avg. packet loss rate: 0.3253380120298584\n",
      "length of dataset: 10000\n"
     ]
    }
   ],
   "source": [
    "with open(f'../../../data/processed/offline_dataset/subOptimalAgent_encConfig{configIdx}_{envParams[\"sub_agents_idx\"]}.pkl', 'rb') as f:\n",
    "    dataset_expert = pickle.load(f)\n",
    "\n",
    "dataset_off = {\n",
    "    'observations': dataset_expert['uRecord'],     \n",
    "    'actions': dataset_expert['actionsRecord'], \n",
    "    'rewards': dataset_expert['rewardRecord'], \n",
    "    'next_observations': dataset_expert['uNextRecord']\n",
    "}\n",
    "print(f\"Avg. packet loss rate: {np.mean(dataset_expert['rewardRecord'])}\")\n",
    "print(f\"length of dataset: {len(dataset_off['observations'])}\")"
   ]
  },
  {
   "cell_type": "code",
   "execution_count": 6,
   "metadata": {},
   "outputs": [],
   "source": [
    "hyperparams = {\n",
    "    'N_diffusion_steps':30,\n",
    "    'schedule_type': \"vp\",\n",
    "    'abs_action_max': 1.0,\n",
    "    'gamma': 0.99,\n",
    "    'lr': 5e-3,\n",
    "    'decay_lr': True,\n",
    "    'weight_decay': 0.0,\n",
    "    'num_critics': 12,\n",
    "    'lcb_coef': 0.15,\n",
    "    'q_sample_eta': 1.0,\n",
    "    'weight_entropy_loss': 0.01,\n",
    "    'weight_q_loss': 1.0,\n",
    "    'approximate_action': True,\n",
    "    'ema_tau': 0.001,\n",
    "    'ema_period': 20,\n",
    "    'ema_begin_update': 1000,\n",
    "    'layer_norm': True,\n",
    "    'grad_clip': 3.0,\n",
    "    'device': 'cuda',\n",
    "}"
   ]
  },
  {
   "cell_type": "code",
   "execution_count": 12,
   "metadata": {},
   "outputs": [
    {
     "name": "stdout",
     "output_type": "stream",
     "text": [
      "[[67.1835668  71.03175665 63.10815359 97.86353889 28.24510863 52.99527706\n",
      "   6.49203226 18.25851893]]\n",
      "[[ 0.34367134  0.42063513  0.26216307  0.95727078 -0.43509783  0.05990554\n",
      "  -0.87015935 -0.63482962]]\n",
      "[[67.1835668  71.03175665 63.10815359 97.86353889 28.24510863 52.99527706\n",
      "   6.49203226 18.25851893]]\n",
      "[[169.76345929 153.12844433 139.79266297  98.55408422 167.81562454\n",
      "  104.18625132 169.78508995  16.01407888]]\n",
      "[[ 0.69763459  0.53128444  0.39792663 -0.01445916  0.67815625  0.04186251\n",
      "   0.6978509  -0.83985921]]\n"
     ]
    }
   ],
   "source": [
    "envInterface = EnvInterface(\n",
    "    envParams, discrete_state=False,\n",
    "    n_bits_state=2, base_state=200,\n",
    "    n_bits_action=2, base_action=200,\n",
    ")\n",
    "\n",
    "r = np.random.uniform(0, envParams['B'], size=(1, 8))\n",
    "a = envInterface.preprocess_action(r)\n",
    "r_ = envInterface.postprocess_action(a)\n",
    "print(r)\n",
    "print(a)\n",
    "print(r_)\n",
    "\n",
    "u = np.random.uniform(0, envParams['LEN_window'], size=(1, 8))\n",
    "u_ = envInterface.preprocess_state(u)\n",
    "print(u)\n",
    "print(u_)\n"
   ]
  }
 ],
 "metadata": {
  "kernelspec": {
   "display_name": "traffic_predictor_3_9",
   "language": "python",
   "name": "python3"
  },
  "language_info": {
   "codemirror_mode": {
    "name": "ipython",
    "version": 3
   },
   "file_extension": ".py",
   "mimetype": "text/x-python",
   "name": "python",
   "nbconvert_exporter": "python",
   "pygments_lexer": "ipython3",
   "version": "3.9.20"
  }
 },
 "nbformat": 4,
 "nbformat_minor": 2
}
