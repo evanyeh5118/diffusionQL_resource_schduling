{
 "cells": [
  {
   "cell_type": "code",
   "execution_count": 1,
   "id": "1e461a70",
   "metadata": {},
   "outputs": [
    {
     "ename": "ModuleNotFoundError",
     "evalue": "No module named 'DiffusionQL.Helpers.DataSampler'; 'DiffusionQL.Helpers' is not a package",
     "output_type": "error",
     "traceback": [
      "\u001b[1;31m---------------------------------------------------------------------------\u001b[0m",
      "\u001b[1;31mModuleNotFoundError\u001b[0m                       Traceback (most recent call last)",
      "Cell \u001b[1;32mIn[1], line 14\u001b[0m\n\u001b[0;32m     11\u001b[0m \u001b[38;5;28;01mimport\u001b[39;00m \u001b[38;5;21;01msys\u001b[39;00m\n\u001b[0;32m     12\u001b[0m sys\u001b[38;5;241m.\u001b[39mpath\u001b[38;5;241m.\u001b[39mappend(\u001b[38;5;124m\"\u001b[39m\u001b[38;5;124m..\u001b[39m\u001b[38;5;124m\"\u001b[39m)\n\u001b[1;32m---> 14\u001b[0m \u001b[38;5;28;01mfrom\u001b[39;00m \u001b[38;5;21;01mDiffusionQL\u001b[39;00m\u001b[38;5;21;01m.\u001b[39;00m\u001b[38;5;21;01mHelpers\u001b[39;00m\u001b[38;5;21;01m.\u001b[39;00m\u001b[38;5;21;01mDataSampler\u001b[39;00m \u001b[38;5;28;01mimport\u001b[39;00m ReplayBuffer\n\u001b[0;32m     15\u001b[0m \u001b[38;5;28;01mfrom\u001b[39;00m \u001b[38;5;21;01mDiffusionQL\u001b[39;00m\u001b[38;5;21;01m.\u001b[39;00m\u001b[38;5;21;01mHelpers\u001b[39;00m\u001b[38;5;21;01m.\u001b[39;00m\u001b[38;5;21;01mVisualization\u001b[39;00m \u001b[38;5;28;01mimport\u001b[39;00m MultiLivePlot\n",
      "\u001b[1;31mModuleNotFoundError\u001b[0m: No module named 'DiffusionQL.Helpers.DataSampler'; 'DiffusionQL.Helpers' is not a package"
     ]
    }
   ],
   "source": [
    "import os\n",
    "os.environ[\"KMP_DUPLICATE_LIB_OK\"]=\"TRUE\"\n",
    "\n",
    "import numpy as np\n",
    "import matplotlib.pyplot as plt\n",
    "\n",
    "import torch\n",
    "from torch.utils.data import DataLoader, TensorDataset\n",
    "from tqdm import tqdm\n",
    "\n",
    "import sys\n",
    "sys.path.append(\"..\")\n",
    "\n",
    "from DiffusionQL.Helpers.DataSampler import ReplayBuffer\n",
    "from DiffusionQL.Helpers.Visualization import MultiLivePlot"
   ]
  },
  {
   "cell_type": "code",
   "execution_count": null,
   "id": "7943eb09",
   "metadata": {},
   "outputs": [],
   "source": [
    "hyperparams = {\n",
    "    'N_diffusion_steps': 50,\n",
    "    'device': 'cuda',\n",
    "    'gamma': 0.99,\n",
    "    'lr': 5e-3,\n",
    "    'decay_lr': False,\n",
    "    'iql_tau': 0.9,\n",
    "    'weight_decay': 1.0,\n",
    "    'temperature': 0.01,\n",
    "    'abs_action_max': 1.0,\n",
    "    'approximate_action': True,\n",
    "    'ema_tau': 0.005,\n",
    "    'ema_period': 10,\n",
    "    'ema_begin_update': 50,\n",
    "}\n",
    "\n",
    "from DiffusionQL.DQL_Q_iql_PI_iql import DQL_Q_iql_PI_iql as Agent\n",
    "agent = Agent(state_dim=1, action_dim=2, **hyperparams)\n",
    "\n",
    "from DiffusionQL.DQL_Q_iql_PI_td3 import DQL_Q_iql_PI_td3 as Agent\n",
    "agent = Agent(state_dim=1, action_dim=2, **hyperparams)\n",
    "\n"
   ]
  },
  {
   "cell_type": "code",
   "execution_count": null,
   "id": "26d207dc",
   "metadata": {},
   "outputs": [
    {
     "name": "stdout",
     "output_type": "stream",
     "text": [
      "2.4943740367889404\n",
      "torch.Size([10, 3])\n",
      "a.shape: torch.Size([10, 2])\n"
     ]
    }
   ],
   "source": [
    "#from DiffusionQL.DQL_SDE import DQL_SDE as Agent\n",
    "from DiffusionQL.DQL_Q_essemble_PI_td3 import DQL_Q_essemble_PI_td3 as Agent\n",
    "Dim_s = 2\n",
    "Dim_a = 2\n",
    "agent = Agent(state_dim=Dim_s, action_dim=Dim_a, **hyperparams)\n",
    "\n",
    "s = torch.randn(10, Dim_s).to(hyperparams['device'])\n",
    "a = torch.randn(10, Dim_a).to(hyperparams['device'])\n",
    "r = torch.randn(10).to(hyperparams['device'])\n",
    "s_next = torch.randn(10, Dim_s).to(hyperparams['device'])\n",
    "\n",
    "batch = (s, a, r, s_next)\n",
    "loss, new_action = agent.loss(batch)\n",
    "print(loss)\n",
    "a = agent.sample(s, 3)\n",
    "print(f\"a.shape: {a.shape}\")\n",
    "\n",
    "\n",
    "\n",
    "\n",
    "\n",
    "\n"
   ]
  }
 ],
 "metadata": {
  "kernelspec": {
   "display_name": "traffic_predictor_3_9",
   "language": "python",
   "name": "python3"
  },
  "language_info": {
   "codemirror_mode": {
    "name": "ipython",
    "version": 3
   },
   "file_extension": ".py",
   "mimetype": "text/x-python",
   "name": "python",
   "nbconvert_exporter": "python",
   "pygments_lexer": "ipython3",
   "version": "3.9.20"
  }
 },
 "nbformat": 4,
 "nbformat_minor": 5
}
