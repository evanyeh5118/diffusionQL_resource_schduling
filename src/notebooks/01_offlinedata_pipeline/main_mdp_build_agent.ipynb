{
 "cells": [
  {
   "cell_type": "code",
   "execution_count": 1,
   "metadata": {},
   "outputs": [],
   "source": [
    "import os\n",
    "os.environ[\"KMP_DUPLICATE_LIB_OK\"]=\"TRUE\"\n",
    "\n",
    "import sys\n",
    "sys.path.insert(0, '../../../')\n",
    "\n",
    "import numpy as np\n",
    "import matplotlib.pyplot as plt\n",
    "import pickle\n",
    "\n",
    "\n",
    "from src.difsched.agents.mdp import MdpFormulator\n",
    "from src.difsched.env import createEnv\n",
    "from src.difsched.config import getSubAgentConfig, visualizeSubAgentConfig"
   ]
  },
  {
   "cell_type": "code",
   "execution_count": null,
   "metadata": {},
   "outputs": [
    {
     "name": "stdout",
     "output_type": "stream",
     "text": [
      "==================================================\n",
      "Environment Configuration\n",
      "==================================================\n",
      "Number of Users:        4\n",
      "Window Length:          200\n",
      "Dataflow:               thumb_bk\n",
      "N_aggregation:          4\n",
      "N_r:                    5\n",
      "Resource Bar:           5\n",
      "Bandwidth:              60\n",
      "Sigmoid K List:         [0.3]\n",
      "Sigmoid S List:         [10.0]\n",
      "Random Seed:            999\n",
      "==================================================\n",
      "(256, 625)\n",
      "(256, 256, 625)\n"
     ]
    },
    {
     "name": "stderr",
     "output_type": "stream",
     "text": [
      "Value Iteration:   4%|▎         | 37/1000 [00:09<03:55,  4.09it/s, V=8.812205]\n"
     ]
    },
    {
     "ename": "KeyboardInterrupt",
     "evalue": "",
     "output_type": "error",
     "traceback": [
      "\u001b[1;31m---------------------------------------------------------------------------\u001b[0m",
      "\u001b[1;31mKeyboardInterrupt\u001b[0m                         Traceback (most recent call last)",
      "Cell \u001b[1;32mIn[2], line 14\u001b[0m\n\u001b[0;32m     12\u001b[0m \u001b[38;5;28mprint\u001b[39m(mdpKernel\u001b[38;5;241m.\u001b[39mrewardTable\u001b[38;5;241m.\u001b[39mshape)\n\u001b[0;32m     13\u001b[0m \u001b[38;5;28mprint\u001b[39m(mdpKernel\u001b[38;5;241m.\u001b[39mtransitionTable\u001b[38;5;241m.\u001b[39mshape)\n\u001b[1;32m---> 14\u001b[0m (V_deter, policy_deter) \u001b[38;5;241m=\u001b[39m \u001b[43mmdpKernel\u001b[49m\u001b[38;5;241;43m.\u001b[39;49m\u001b[43moptimize_policy\u001b[49m\u001b[43m(\u001b[49m\u001b[43mmode\u001b[49m\u001b[38;5;241;43m=\u001b[39;49m\u001b[38;5;124;43m\"\u001b[39;49m\u001b[38;5;124;43mdeterministic\u001b[39;49m\u001b[38;5;124;43m\"\u001b[39;49m\u001b[43m,\u001b[49m\u001b[43m \u001b[49m\u001b[43mmax_iterations\u001b[49m\u001b[38;5;241;43m=\u001b[39;49m\u001b[38;5;241;43m1000\u001b[39;49m\u001b[43m)\u001b[49m\n\u001b[0;32m     15\u001b[0m mdpKernelParams[\u001b[38;5;124m'\u001b[39m\u001b[38;5;124mV_deter\u001b[39m\u001b[38;5;124m'\u001b[39m] \u001b[38;5;241m=\u001b[39m V_deter\n\u001b[0;32m     16\u001b[0m mdpKernelParams[\u001b[38;5;124m'\u001b[39m\u001b[38;5;124mpolicy_deter\u001b[39m\u001b[38;5;124m'\u001b[39m] \u001b[38;5;241m=\u001b[39m policy_deter  \n",
      "File \u001b[1;32mc:\\Users\\Ye\\Documents\\YuYeh_Documents\\L2S\\Projects\\Diffusion-offRL\\diffusion_resource_schduling_intra_slice\\src\\notebooks\\01_offlinedata_pipeline\\../../..\\src\\difsched\\agents\\mdp\\MdpSolver.py:52\u001b[0m, in \u001b[0;36mMdpKernel.optimize_policy\u001b[1;34m(self, mode, gamma, theta, max_iterations, lr, temperature)\u001b[0m\n\u001b[0;32m     50\u001b[0m \u001b[38;5;28mself\u001b[39m\u001b[38;5;241m.\u001b[39mmode \u001b[38;5;241m=\u001b[39m mode\n\u001b[0;32m     51\u001b[0m \u001b[38;5;28;01mif\u001b[39;00m mode \u001b[38;5;241m==\u001b[39m \u001b[38;5;124m\"\u001b[39m\u001b[38;5;124mdeterministic\u001b[39m\u001b[38;5;124m\"\u001b[39m:\n\u001b[1;32m---> 52\u001b[0m     \u001b[38;5;28;01mreturn\u001b[39;00m \u001b[38;5;28;43mself\u001b[39;49m\u001b[38;5;241;43m.\u001b[39;49m\u001b[43m_optimize_policy_deterministic\u001b[49m\u001b[43m(\u001b[49m\u001b[43mgamma\u001b[49m\u001b[43m,\u001b[49m\u001b[43m \u001b[49m\u001b[43mtheta\u001b[49m\u001b[43m,\u001b[49m\u001b[43m \u001b[49m\u001b[43mmax_iterations\u001b[49m\u001b[43m)\u001b[49m\n\u001b[0;32m     53\u001b[0m \u001b[38;5;28;01melif\u001b[39;00m mode \u001b[38;5;241m==\u001b[39m \u001b[38;5;124m\"\u001b[39m\u001b[38;5;124mstochastic\u001b[39m\u001b[38;5;124m\"\u001b[39m:\n\u001b[0;32m     54\u001b[0m     \u001b[38;5;28;01mreturn\u001b[39;00m \u001b[38;5;28mself\u001b[39m\u001b[38;5;241m.\u001b[39m_optimize_policy_stochastic(\n\u001b[0;32m     55\u001b[0m     gamma\u001b[38;5;241m=\u001b[39mgamma, theta\u001b[38;5;241m=\u001b[39mtheta, max_iterations\u001b[38;5;241m=\u001b[39mmax_iterations, temperature\u001b[38;5;241m=\u001b[39mtemperature, lr\u001b[38;5;241m=\u001b[39mlr)\n",
      "File \u001b[1;32mc:\\Users\\Ye\\Documents\\YuYeh_Documents\\L2S\\Projects\\Diffusion-offRL\\diffusion_resource_schduling_intra_slice\\src\\notebooks\\01_offlinedata_pipeline\\../../..\\src\\difsched\\agents\\mdp\\MdpSolver.py:85\u001b[0m, in \u001b[0;36mMdpKernel._optimize_policy_deterministic\u001b[1;34m(self, gamma, theta, max_iterations)\u001b[0m\n\u001b[0;32m     80\u001b[0m ite_bar\u001b[38;5;241m.\u001b[39mset_postfix({\n\u001b[0;32m     81\u001b[0m     \u001b[38;5;124m'\u001b[39m\u001b[38;5;124mV\u001b[39m\u001b[38;5;124m'\u001b[39m: \u001b[38;5;124mf\u001b[39m\u001b[38;5;124m'\u001b[39m\u001b[38;5;132;01m{\u001b[39;00m\u001b[38;5;28mself\u001b[39m\u001b[38;5;241m.\u001b[39mV\u001b[38;5;241m.\u001b[39mmean()\u001b[38;5;132;01m:\u001b[39;00m\u001b[38;5;124m.6f\u001b[39m\u001b[38;5;132;01m}\u001b[39;00m\u001b[38;5;124m'\u001b[39m\n\u001b[0;32m     82\u001b[0m })\n\u001b[0;32m     83\u001b[0m \u001b[38;5;28;01mfor\u001b[39;00m s \u001b[38;5;129;01min\u001b[39;00m \u001b[38;5;28mrange\u001b[39m(\u001b[38;5;28mself\u001b[39m\u001b[38;5;241m.\u001b[39mN_states):\n\u001b[0;32m     84\u001b[0m     \u001b[38;5;66;03m# Bellman backup for minimisation\u001b[39;00m\n\u001b[1;32m---> 85\u001b[0m     q \u001b[38;5;241m=\u001b[39m [\u001b[38;5;28mself\u001b[39m\u001b[38;5;241m.\u001b[39m_getReward(s, a) \u001b[38;5;241m+\u001b[39m gamma \u001b[38;5;241m*\u001b[39m np\u001b[38;5;241m.\u001b[39mdot(\u001b[38;5;28mself\u001b[39m\u001b[38;5;241m.\u001b[39m_getTransition(a)[s], \u001b[38;5;28mself\u001b[39m\u001b[38;5;241m.\u001b[39mV)\n\u001b[0;32m     86\u001b[0m         \u001b[38;5;28;01mfor\u001b[39;00m a \u001b[38;5;129;01min\u001b[39;00m \u001b[38;5;28mrange\u001b[39m(\u001b[38;5;28mself\u001b[39m\u001b[38;5;241m.\u001b[39mN_actions)]\n\u001b[0;32m     87\u001b[0m     best_q \u001b[38;5;241m=\u001b[39m \u001b[38;5;28mmin\u001b[39m(q)\n\u001b[0;32m     88\u001b[0m     delta \u001b[38;5;241m=\u001b[39m \u001b[38;5;28mmax\u001b[39m(delta, \u001b[38;5;28mabs\u001b[39m(best_q \u001b[38;5;241m-\u001b[39m \u001b[38;5;28mself\u001b[39m\u001b[38;5;241m.\u001b[39mV[s]))\n",
      "File \u001b[1;32mc:\\Users\\Ye\\Documents\\YuYeh_Documents\\L2S\\Projects\\Diffusion-offRL\\diffusion_resource_schduling_intra_slice\\src\\notebooks\\01_offlinedata_pipeline\\../../..\\src\\difsched\\agents\\mdp\\MdpSolver.py:85\u001b[0m, in \u001b[0;36m<listcomp>\u001b[1;34m(.0)\u001b[0m\n\u001b[0;32m     80\u001b[0m ite_bar\u001b[38;5;241m.\u001b[39mset_postfix({\n\u001b[0;32m     81\u001b[0m     \u001b[38;5;124m'\u001b[39m\u001b[38;5;124mV\u001b[39m\u001b[38;5;124m'\u001b[39m: \u001b[38;5;124mf\u001b[39m\u001b[38;5;124m'\u001b[39m\u001b[38;5;132;01m{\u001b[39;00m\u001b[38;5;28mself\u001b[39m\u001b[38;5;241m.\u001b[39mV\u001b[38;5;241m.\u001b[39mmean()\u001b[38;5;132;01m:\u001b[39;00m\u001b[38;5;124m.6f\u001b[39m\u001b[38;5;132;01m}\u001b[39;00m\u001b[38;5;124m'\u001b[39m\n\u001b[0;32m     82\u001b[0m })\n\u001b[0;32m     83\u001b[0m \u001b[38;5;28;01mfor\u001b[39;00m s \u001b[38;5;129;01min\u001b[39;00m \u001b[38;5;28mrange\u001b[39m(\u001b[38;5;28mself\u001b[39m\u001b[38;5;241m.\u001b[39mN_states):\n\u001b[0;32m     84\u001b[0m     \u001b[38;5;66;03m# Bellman backup for minimisation\u001b[39;00m\n\u001b[1;32m---> 85\u001b[0m     q \u001b[38;5;241m=\u001b[39m [\u001b[38;5;28mself\u001b[39m\u001b[38;5;241m.\u001b[39m_getReward(s, a) \u001b[38;5;241m+\u001b[39m gamma \u001b[38;5;241m*\u001b[39m \u001b[43mnp\u001b[49m\u001b[38;5;241;43m.\u001b[39;49m\u001b[43mdot\u001b[49m\u001b[43m(\u001b[49m\u001b[38;5;28;43mself\u001b[39;49m\u001b[38;5;241;43m.\u001b[39;49m\u001b[43m_getTransition\u001b[49m\u001b[43m(\u001b[49m\u001b[43ma\u001b[49m\u001b[43m)\u001b[49m\u001b[43m[\u001b[49m\u001b[43ms\u001b[49m\u001b[43m]\u001b[49m\u001b[43m,\u001b[49m\u001b[43m \u001b[49m\u001b[38;5;28;43mself\u001b[39;49m\u001b[38;5;241;43m.\u001b[39;49m\u001b[43mV\u001b[49m\u001b[43m)\u001b[49m\n\u001b[0;32m     86\u001b[0m         \u001b[38;5;28;01mfor\u001b[39;00m a \u001b[38;5;129;01min\u001b[39;00m \u001b[38;5;28mrange\u001b[39m(\u001b[38;5;28mself\u001b[39m\u001b[38;5;241m.\u001b[39mN_actions)]\n\u001b[0;32m     87\u001b[0m     best_q \u001b[38;5;241m=\u001b[39m \u001b[38;5;28mmin\u001b[39m(q)\n\u001b[0;32m     88\u001b[0m     delta \u001b[38;5;241m=\u001b[39m \u001b[38;5;28mmax\u001b[39m(delta, \u001b[38;5;28mabs\u001b[39m(best_q \u001b[38;5;241m-\u001b[39m \u001b[38;5;28mself\u001b[39m\u001b[38;5;241m.\u001b[39mV[s]))\n",
      "\u001b[1;31mKeyboardInterrupt\u001b[0m: "
     ]
    },
    {
     "ename": "",
     "evalue": "",
     "output_type": "error",
     "traceback": [
      "\u001b[1;31mThe Kernel crashed while executing code in the current cell or a previous cell. \n",
      "\u001b[1;31mPlease review the code in the cell(s) to identify a possible cause of the failure. \n",
      "\u001b[1;31mClick <a href='https://aka.ms/vscodeJupyterKernelCrash'>here</a> for more info. \n",
      "\u001b[1;31mView Jupyter <a href='command:jupyter.viewOutput'>log</a> for further details."
     ]
    }
   ],
   "source": [
    "trafficDataParentPath = f'../../../data/processed/traffic'\n",
    "for configIdx in [1]:\n",
    "    subAgentParams = getSubAgentConfig(configIdx)\n",
    "    visualizeSubAgentConfig(subAgentParams)\n",
    "    env = createEnv(subAgentParams, trafficDataParentPath)\n",
    "    env.selectMode(mode=\"train\", type=\"data\")\n",
    "\n",
    "    mdpFormulator = MdpFormulator(subAgentParams, env.trafficGenerator.getM(mode=\"train\"))\n",
    "    mdpFormulator.aggregateModel(approximate=True)\n",
    "\n",
    "    mdpKernel, mdpKernelParams = mdpFormulator.getMdpKernel()\n",
    "    print(mdpKernel.rewardTable.shape)\n",
    "    print(mdpKernel.transitionTable.shape)\n",
    "    (V_deter, policy_deter) = mdpKernel.optimize_policy(mode=\"deterministic\", max_iterations=1000)\n",
    "    mdpKernelParams['V_deter'] = V_deter\n",
    "    mdpKernelParams['policy_deter'] = policy_deter  \n",
    "     #(V_stoch, policy_stoch) = mdpKernel.optimize_policy(mode=\"stochastic\", lr=10, max_iterations=80)\n",
    "    mdpKernelParams['V_stoch'] = None\n",
    "    mdpKernelParams['policy_stoch'] = None\n",
    "    #mdpKernelParams['V_stoch'] = V_stoch\n",
    "    #mdpKernelParams['policy_stoch'] = policy_stoch\n",
    "\n",
    "    with open(f'../../data/results/MdpPolicy/mdp_config{configIdx}.pkl', 'wb') as f:\n",
    "        pickle.dump(mdpKernelParams, f)\n"
   ]
  }
 ],
 "metadata": {
  "kernelspec": {
   "display_name": "traffic_predictor_3_9",
   "language": "python",
   "name": "python3"
  },
  "language_info": {
   "codemirror_mode": {
    "name": "ipython",
    "version": 3
   },
   "file_extension": ".py",
   "mimetype": "text/x-python",
   "name": "python",
   "nbconvert_exporter": "python",
   "pygments_lexer": "ipython3",
   "version": "3.9.20"
  }
 },
 "nbformat": 4,
 "nbformat_minor": 2
}
