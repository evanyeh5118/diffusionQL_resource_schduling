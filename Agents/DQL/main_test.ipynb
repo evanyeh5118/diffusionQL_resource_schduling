{
 "cells": [
  {
   "cell_type": "code",
   "execution_count": 1,
   "id": "98767fbe",
   "metadata": {},
   "outputs": [],
   "source": [
    "import sys\n",
    "import os\n",
    "\n",
    "# Add the path where `agents/` lives\n",
    "sys.path.append(os.path.abspath(\"../../../Diffusion-Policies-for-Offline-RL\"))\n",
    "from dql import Diffusion_QL"
   ]
  },
  {
   "cell_type": "code",
   "execution_count": null,
   "id": "358eb223",
   "metadata": {},
   "outputs": [],
   "source": [
    "\n",
    "\n",
    "\n",
    "dql = Diffusion_QL(state_dim=1, action_dim=2, max_action=1, device=\"cuda\", discount=0.99, tau=0.005)\n",
    "\n",
    "state = torch([]_\n"
   ]
  }
 ],
 "metadata": {
  "kernelspec": {
   "display_name": "traffic_predictor_3_9",
   "language": "python",
   "name": "python3"
  },
  "language_info": {
   "codemirror_mode": {
    "name": "ipython",
    "version": 3
   },
   "file_extension": ".py",
   "mimetype": "text/x-python",
   "name": "python",
   "nbconvert_exporter": "python",
   "pygments_lexer": "ipython3",
   "version": "3.9.20"
  }
 },
 "nbformat": 4,
 "nbformat_minor": 5
}
