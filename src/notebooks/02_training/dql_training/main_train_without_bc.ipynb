{
 "cells": [
  {
   "cell_type": "code",
   "execution_count": 6,
   "metadata": {},
   "outputs": [],
   "source": [
    "import os\n",
    "os.environ[\"KMP_DUPLICATE_LIB_OK\"]=\"TRUE\"\n",
    "\n",
    "import sys\n",
    "sys.path.insert(0, '../../../../')\n",
    "\n",
    "import numpy as np\n",
    "import matplotlib.pyplot as plt\n",
    "import pickle\n",
    "\n",
    "from src.difsched.config import getEnvConfig, visualizeEnvConfig, getDatasetConfig, visualizeDatasetConfig\n",
    "from src.difsched.utils.DataSampler import ReplayBuffer, ReplayBufferHybrid\n",
    "from src.difsched.utils.Visualization import MultiLivePlot\n",
    "from src.difsched.env.EnvironmentSim import createEnv\n",
    "from src.difsched.utils.EnvInterface import EnvInterface\n",
    "from src.difsched.evaluation import eval\n",
    "from src.difsched.agents.DiffusionQL.DQL_Q_esmb import DQL_Q_esmb as Agent"
   ]
  },
  {
   "cell_type": "code",
   "execution_count": 7,
   "metadata": {},
   "outputs": [
    {
     "name": "stdout",
     "output_type": "stream",
     "text": [
      "==================================================\n",
      "Environment Configuration\n",
      "==================================================\n",
      "Number of Users:        8\n",
      "Window Length:          200\n",
      "Dataflow:               thumb_fr\n",
      "Sigmoid K List:         [0.1, 0.2, 0.3, 0.4, 0.5]\n",
      "Sigmoid S List:         [10.0, 10.0, 10.0, 10.0, 10.0]\n",
      "Resource Bar:           5\n",
      "Bandwidth:              100\n",
      "Sub Agents:             [[0, 0]]\n",
      "User Map:               [[0, 1, 2, 3], [4, 5, 6, 7]]\n",
      "==================================================\n"
     ]
    }
   ],
   "source": [
    "configIdx = 0\n",
    "envParams = getEnvConfig(configIdx)\n",
    "visualizeEnvConfig(envParams)\n",
    "trafficDataParentPath =  f'../../../../data/raw/traffic'\n",
    "env = createEnv(envParams, trafficDataParentPath)\n",
    "env.selectMode(mode=\"train\", type=\"data\")"
   ]
  },
  {
   "cell_type": "code",
   "execution_count": 8,
   "metadata": {},
   "outputs": [],
   "source": [
    "hyperparams = {\n",
    "    'N_diffusion_steps':30,\n",
    "    'schedule_type': \"vp\",\n",
    "    'abs_action_max': 1.0,\n",
    "    'gamma': 0.99,\n",
    "    'lr': 5e-4,\n",
    "    'decay_lr': True,\n",
    "    'weight_decay': 0.0,\n",
    "    'num_critics': 8,\n",
    "    'lcb_coef': 0.15,\n",
    "    'q_sample_eta': 1.0,\n",
    "    'weight_entropy_loss': 0.01,\n",
    "    'weight_q_loss': 1.0,\n",
    "    'approximate_action': True,\n",
    "    'ema_tau': 0.001,\n",
    "    'ema_period': 20,\n",
    "    'ema_begin_update': 1000,\n",
    "    'layer_norm': True,\n",
    "    'grad_clip': 3.0,\n",
    "    'device': 'cuda',\n",
    "}"
   ]
  },
  {
   "cell_type": "code",
   "execution_count": 9,
   "metadata": {},
   "outputs": [
    {
     "name": "stdout",
     "output_type": "stream",
     "text": [
      "state_dim: 8, action_dim: 8\n"
     ]
    },
    {
     "name": "stderr",
     "output_type": "stream",
     "text": [
      "c:\\Users\\Ye\\miniconda3\\envs\\traffic_predictor_3_9\\lib\\site-packages\\numpy\\core\\fromnumeric.py:3504: RuntimeWarning: Mean of empty slice.\n",
      "  return _methods._mean(a, axis=axis, dtype=dtype,\n",
      "c:\\Users\\Ye\\miniconda3\\envs\\traffic_predictor_3_9\\lib\\site-packages\\numpy\\core\\_methods.py:129: RuntimeWarning: invalid value encountered in scalar divide\n",
      "  ret = ret.dtype.type(ret / rcount)\n",
      "                                                                   \r"
     ]
    },
    {
     "name": "stdout",
     "output_type": "stream",
     "text": [
      "====================Iteration 50====================\n",
      "Ld: 0.5149996089935303, Lq: 0.40042383819818494, Le: -1.4799671816825866, loss_Q: 0.0255245965719223\n",
      "Avg. Reward: 0.635945400171526, sample_ratio: 0.2, weight_bc_loss: 0.0\n",
      "==================================================\n"
     ]
    },
    {
     "name": "stderr",
     "output_type": "stream",
     "text": [
      "                                                                   \r"
     ]
    }
   ],
   "source": [
    "iterations = 100\n",
    "batch_size = 100\n",
    "LEN_eval = 50\n",
    "report_period = 50\n",
    "warm_up_period = 30\n",
    "max_sp_ratio, min_sp_ratio = 1.0, 0.2\n",
    "max_weight_bc_loss, min_weight_bc_loss = 0.0, 0.0\n",
    "rb_capacity = 30000\n",
    "\n",
    "save_folder = f\"../../../../data/results/dql/config_{configIdx}/without_bc\"\n",
    "if not os.path.exists(save_folder):\n",
    "    os.makedirs(save_folder)\n",
    "\n",
    "for N_exp in range(1):\n",
    "    envInterface = EnvInterface(envParams, discrete_state=False)\n",
    "    dataSamplerOn = ReplayBufferHybrid(capacity=rb_capacity, envInterface=envInterface, device=hyperparams['device'])\n",
    "\n",
    "    print(f\"state_dim: {envInterface.state_dim}, action_dim: {envInterface.action_dim}\")\n",
    "    agent = Agent(\n",
    "        state_dim=envInterface.state_dim, \n",
    "        action_dim=envInterface.action_dim, \n",
    "        **hyperparams\n",
    "    )\n",
    "    metrics_train = {'Ld': [], 'Lq': [], 'Le': [], 'loss_Q': [], 'Reward': []}\n",
    "    ploter = MultiLivePlot(nrows=1, ncols=5, titles=[\"Ld\", \"Lq\", \"Le\", \"loss_Q\", \"Reward\"], display_window=25)\n",
    "    best_reward = np.inf\n",
    "    idx_episode = 1\n",
    "    reward_last = np.inf\n",
    "    while(True):\n",
    "        metrics = agent.train(dataSamplerOn, iterations, batch_size, tqdm_pos=0)\n",
    "        _, explore_data = eval(agent, env, envInterface, LEN_eval=LEN_eval, obvMode=\"predicted\", sample_method=\"exploration\", N_action_candidates=10, \n",
    "                            eta=np.random.uniform(1.0, 5.0), verbose=True)\n",
    "        dataSamplerOn.addOnline(explore_data)\n",
    "        reward, offpolicy_data = eval(agent, env, envInterface, LEN_eval=LEN_eval, obvMode=\"predicted\", sample_method=\"greedy\", N_action_candidates=50, eta=1.0, verbose=True)\n",
    "        dataSamplerOn.addOnline(offpolicy_data)\n",
    "        sample_ratio = np.max([min_sp_ratio, max_sp_ratio - ((max_sp_ratio-min_sp_ratio)/warm_up_period) * idx_episode])\n",
    "        dataSamplerOn.set_sample_ratio(sample_ratio)\n",
    "        weight_bc_loss = np.max([min_weight_bc_loss, max_weight_bc_loss - ((max_weight_bc_loss-min_weight_bc_loss)/warm_up_period) * idx_episode])\n",
    "        agent.set_weight_bc_loss(weight_bc_loss)\n",
    "\n",
    "        metrics_train['Ld'] += metrics['Ld']\n",
    "        metrics_train['Lq'] += metrics['Lq']\n",
    "        metrics_train['Le'] += metrics['Le']\n",
    "        metrics_train['loss_Q'] += metrics['loss_Q']\n",
    "        metrics_train['Reward'].append(reward)\n",
    "        ploter.update(0, idx_episode, np.mean(metrics['Ld']))\n",
    "        ploter.update(1, idx_episode, np.mean(metrics['Lq']))\n",
    "        ploter.update(2, idx_episode, np.mean(metrics['Le']))\n",
    "        ploter.update(3, idx_episode, np.mean(metrics['loss_Q']))\n",
    "        ploter.update(4, idx_episode, reward)    \n",
    "        if reward < best_reward:\n",
    "            best_reward = reward\n",
    "            agent.save_model(save_folder, f'{N_exp}_best')\n",
    "            with open(f\"{save_folder}/train_metrics_{N_exp}_best.pkl\", \"wb\") as f:\n",
    "                pickle.dump(metrics_train, f)\n",
    "\n",
    "        if idx_episode >= 50 and np.mean(metrics_train['Reward'][-10:]) > np.mean(metrics_train['Reward'][-20:-10]) or idx_episode > 50 or np.abs(reward_last - reward) < 1e-7:\n",
    "            agent.save_model(save_folder, f'{N_exp}_end')\n",
    "            with open(f\"{save_folder}/train_metrics_{N_exp}_end.pkl\", \"wb\") as f:\n",
    "                pickle.dump(metrics_train, f)\n",
    "            break\n",
    "        reward_last = reward\n",
    "\n",
    "        if idx_episode % report_period == 0:\n",
    "            print(\"=\" * 20 + f\"Iteration {idx_episode}\" + \"=\" * 20)\n",
    "            print(f\"Ld: {np.mean(metrics['Ld'])}, \" + \n",
    "                f\"Lq: {np.mean(metrics['Lq'])}, \" + \n",
    "                f\"Le: {np.mean(metrics['Le'])}, \" + \n",
    "                f\"loss_Q: {np.mean(metrics['loss_Q'])}\")\n",
    "            print(f\"Avg. Reward: {np.mean(metrics_train['Reward'][-int(report_period):])}, sample_ratio: {sample_ratio}, weight_bc_loss: {weight_bc_loss}\")\n",
    "            print(\"=\" * 50) \n",
    "        idx_episode += 1"
   ]
  },
  {
   "cell_type": "markdown",
   "metadata": {},
   "source": []
  },
  {
   "cell_type": "code",
   "execution_count": 10,
   "metadata": {},
   "outputs": [
    {
     "name": "stderr",
     "output_type": "stream",
     "text": [
      "c:\\Users\\Ye\\Documents\\YuYeh_Documents\\L2S\\Projects\\Diffusion-offRL\\diffusion_resource_schduling_intra_slice\\src\\notebooks\\02_training\\dql_training\\../../../..\\src\\difsched\\agents\\DiffusionQL\\DQL_Q_esmb.py:208: FutureWarning: You are using `torch.load` with `weights_only=False` (the current default value), which uses the default pickle module implicitly. It is possible to construct malicious pickle data which will execute arbitrary code during unpickling (See https://github.com/pytorch/pytorch/blob/main/SECURITY.md#untrusted-models for more details). In a future release, the default value for `weights_only` will be flipped to `True`. This limits the functions that could be executed during unpickling. Arbitrary objects will no longer be allowed to be loaded via this mode unless they are explicitly allowlisted by the user via `torch.serialization.add_safe_globals`. We recommend you start setting `weights_only=True` for any use case where you don't have full control of the loaded file. Please open an issue on GitHub for any issues related to this experimental feature.\n",
      "  self.actor.load_state_dict(torch.load(f'{dir}/actor_{id}.pth'))\n"
     ]
    },
    {
     "ename": "FileNotFoundError",
     "evalue": "[Errno 2] No such file or directory: 'Models//actor_0_best.pth'",
     "output_type": "error",
     "traceback": [
      "\u001b[1;31m---------------------------------------------------------------------------\u001b[0m",
      "\u001b[1;31mFileNotFoundError\u001b[0m                         Traceback (most recent call last)",
      "Cell \u001b[1;32mIn[10], line 8\u001b[0m\n\u001b[0;32m      1\u001b[0m \u001b[38;5;28;01mimport\u001b[39;00m \u001b[38;5;21;01mmatplotlib\u001b[39;00m\u001b[38;5;21;01m.\u001b[39;00m\u001b[38;5;21;01mpyplot\u001b[39;00m \u001b[38;5;28;01mas\u001b[39;00m \u001b[38;5;21;01mplt\u001b[39;00m\n\u001b[0;32m      3\u001b[0m agent_eval \u001b[38;5;241m=\u001b[39m Agent(\n\u001b[0;32m      4\u001b[0m     state_dim\u001b[38;5;241m=\u001b[39menvInterface\u001b[38;5;241m.\u001b[39mstate_dim, \n\u001b[0;32m      5\u001b[0m     action_dim\u001b[38;5;241m=\u001b[39menvInterface\u001b[38;5;241m.\u001b[39maction_dim, \n\u001b[0;32m      6\u001b[0m     \u001b[38;5;241m*\u001b[39m\u001b[38;5;241m*\u001b[39mhyperparams\n\u001b[0;32m      7\u001b[0m )\n\u001b[1;32m----> 8\u001b[0m \u001b[43magent_eval\u001b[49m\u001b[38;5;241;43m.\u001b[39;49m\u001b[43mload_model\u001b[49m\u001b[43m(\u001b[49m\u001b[38;5;124;43m\"\u001b[39;49m\u001b[38;5;124;43mModels/\u001b[39;49m\u001b[38;5;124;43m\"\u001b[39;49m\u001b[43m,\u001b[49m\u001b[43m \u001b[49m\u001b[38;5;124;43mf\u001b[39;49m\u001b[38;5;124;43m'\u001b[39;49m\u001b[38;5;132;43;01m{\u001b[39;49;00m\u001b[43mN_exp\u001b[49m\u001b[38;5;132;43;01m}\u001b[39;49;00m\u001b[38;5;124;43m_best\u001b[39;49m\u001b[38;5;124;43m'\u001b[39;49m\u001b[43m)\u001b[49m\n\u001b[0;32m     10\u001b[0m LEN_eval \u001b[38;5;241m=\u001b[39m \u001b[38;5;241m500\u001b[39m\n\u001b[0;32m     12\u001b[0m reward, info \u001b[38;5;241m=\u001b[39m \u001b[38;5;28meval\u001b[39m(agent_eval, env, envInterface, LEN_eval\u001b[38;5;241m=\u001b[39mLEN_eval, obvMode\u001b[38;5;241m=\u001b[39m\u001b[38;5;124m\"\u001b[39m\u001b[38;5;124mpredicted\u001b[39m\u001b[38;5;124m\"\u001b[39m, sample_method\u001b[38;5;241m=\u001b[39m\u001b[38;5;124m\"\u001b[39m\u001b[38;5;124mgreedy\u001b[39m\u001b[38;5;124m\"\u001b[39m, N_action_candidates\u001b[38;5;241m=\u001b[39m\u001b[38;5;241m50\u001b[39m, eta\u001b[38;5;241m=\u001b[39m\u001b[38;5;241m0.5\u001b[39m, verbose\u001b[38;5;241m=\u001b[39m\u001b[38;5;28;01mTrue\u001b[39;00m) \n",
      "File \u001b[1;32mc:\\Users\\Ye\\Documents\\YuYeh_Documents\\L2S\\Projects\\Diffusion-offRL\\diffusion_resource_schduling_intra_slice\\src\\notebooks\\02_training\\dql_training\\../../../..\\src\\difsched\\agents\\DiffusionQL\\DQL_Q_esmb.py:208\u001b[0m, in \u001b[0;36mDQL_Q_esmb.load_model\u001b[1;34m(self, dir, id)\u001b[0m\n\u001b[0;32m    206\u001b[0m \u001b[38;5;28;01mdef\u001b[39;00m \u001b[38;5;21mload_model\u001b[39m(\u001b[38;5;28mself\u001b[39m, \u001b[38;5;28mdir\u001b[39m, \u001b[38;5;28mid\u001b[39m\u001b[38;5;241m=\u001b[39m\u001b[38;5;28;01mNone\u001b[39;00m):\n\u001b[0;32m    207\u001b[0m     \u001b[38;5;28;01mif\u001b[39;00m \u001b[38;5;28mid\u001b[39m \u001b[38;5;129;01mis\u001b[39;00m \u001b[38;5;129;01mnot\u001b[39;00m \u001b[38;5;28;01mNone\u001b[39;00m:\n\u001b[1;32m--> 208\u001b[0m         \u001b[38;5;28mself\u001b[39m\u001b[38;5;241m.\u001b[39mactor\u001b[38;5;241m.\u001b[39mload_state_dict(\u001b[43mtorch\u001b[49m\u001b[38;5;241;43m.\u001b[39;49m\u001b[43mload\u001b[49m\u001b[43m(\u001b[49m\u001b[38;5;124;43mf\u001b[39;49m\u001b[38;5;124;43m'\u001b[39;49m\u001b[38;5;132;43;01m{\u001b[39;49;00m\u001b[38;5;28;43mdir\u001b[39;49m\u001b[38;5;132;43;01m}\u001b[39;49;00m\u001b[38;5;124;43m/actor_\u001b[39;49m\u001b[38;5;132;43;01m{\u001b[39;49;00m\u001b[38;5;28;43mid\u001b[39;49m\u001b[38;5;132;43;01m}\u001b[39;49;00m\u001b[38;5;124;43m.pth\u001b[39;49m\u001b[38;5;124;43m'\u001b[39;49m\u001b[43m)\u001b[49m)\n\u001b[0;32m    209\u001b[0m         \u001b[38;5;28mself\u001b[39m\u001b[38;5;241m.\u001b[39mcritic\u001b[38;5;241m.\u001b[39mload_state_dict(torch\u001b[38;5;241m.\u001b[39mload(\u001b[38;5;124mf\u001b[39m\u001b[38;5;124m'\u001b[39m\u001b[38;5;132;01m{\u001b[39;00m\u001b[38;5;28mdir\u001b[39m\u001b[38;5;132;01m}\u001b[39;00m\u001b[38;5;124m/critic_\u001b[39m\u001b[38;5;132;01m{\u001b[39;00m\u001b[38;5;28mid\u001b[39m\u001b[38;5;132;01m}\u001b[39;00m\u001b[38;5;124m.pth\u001b[39m\u001b[38;5;124m'\u001b[39m))\n\u001b[0;32m    210\u001b[0m         \u001b[38;5;28mself\u001b[39m\u001b[38;5;241m.\u001b[39mactor_target\u001b[38;5;241m.\u001b[39mtarget\u001b[38;5;241m.\u001b[39mload_state_dict(\u001b[38;5;28mself\u001b[39m\u001b[38;5;241m.\u001b[39mactor\u001b[38;5;241m.\u001b[39mstate_dict())\n",
      "File \u001b[1;32mc:\\Users\\Ye\\miniconda3\\envs\\traffic_predictor_3_9\\lib\\site-packages\\torch\\serialization.py:1319\u001b[0m, in \u001b[0;36mload\u001b[1;34m(f, map_location, pickle_module, weights_only, mmap, **pickle_load_args)\u001b[0m\n\u001b[0;32m   1316\u001b[0m \u001b[38;5;28;01mif\u001b[39;00m \u001b[38;5;124m\"\u001b[39m\u001b[38;5;124mencoding\u001b[39m\u001b[38;5;124m\"\u001b[39m \u001b[38;5;129;01mnot\u001b[39;00m \u001b[38;5;129;01min\u001b[39;00m pickle_load_args\u001b[38;5;241m.\u001b[39mkeys():\n\u001b[0;32m   1317\u001b[0m     pickle_load_args[\u001b[38;5;124m\"\u001b[39m\u001b[38;5;124mencoding\u001b[39m\u001b[38;5;124m\"\u001b[39m] \u001b[38;5;241m=\u001b[39m \u001b[38;5;124m\"\u001b[39m\u001b[38;5;124mutf-8\u001b[39m\u001b[38;5;124m\"\u001b[39m\n\u001b[1;32m-> 1319\u001b[0m \u001b[38;5;28;01mwith\u001b[39;00m \u001b[43m_open_file_like\u001b[49m\u001b[43m(\u001b[49m\u001b[43mf\u001b[49m\u001b[43m,\u001b[49m\u001b[43m \u001b[49m\u001b[38;5;124;43m\"\u001b[39;49m\u001b[38;5;124;43mrb\u001b[39;49m\u001b[38;5;124;43m\"\u001b[39;49m\u001b[43m)\u001b[49m \u001b[38;5;28;01mas\u001b[39;00m opened_file:\n\u001b[0;32m   1320\u001b[0m     \u001b[38;5;28;01mif\u001b[39;00m _is_zipfile(opened_file):\n\u001b[0;32m   1321\u001b[0m         \u001b[38;5;66;03m# The zipfile reader is going to advance the current file position.\u001b[39;00m\n\u001b[0;32m   1322\u001b[0m         \u001b[38;5;66;03m# If we want to actually tail call to torch.jit.load, we need to\u001b[39;00m\n\u001b[0;32m   1323\u001b[0m         \u001b[38;5;66;03m# reset back to the original position.\u001b[39;00m\n\u001b[0;32m   1324\u001b[0m         orig_position \u001b[38;5;241m=\u001b[39m opened_file\u001b[38;5;241m.\u001b[39mtell()\n",
      "File \u001b[1;32mc:\\Users\\Ye\\miniconda3\\envs\\traffic_predictor_3_9\\lib\\site-packages\\torch\\serialization.py:659\u001b[0m, in \u001b[0;36m_open_file_like\u001b[1;34m(name_or_buffer, mode)\u001b[0m\n\u001b[0;32m    657\u001b[0m \u001b[38;5;28;01mdef\u001b[39;00m \u001b[38;5;21m_open_file_like\u001b[39m(name_or_buffer, mode):\n\u001b[0;32m    658\u001b[0m     \u001b[38;5;28;01mif\u001b[39;00m _is_path(name_or_buffer):\n\u001b[1;32m--> 659\u001b[0m         \u001b[38;5;28;01mreturn\u001b[39;00m \u001b[43m_open_file\u001b[49m\u001b[43m(\u001b[49m\u001b[43mname_or_buffer\u001b[49m\u001b[43m,\u001b[49m\u001b[43m \u001b[49m\u001b[43mmode\u001b[49m\u001b[43m)\u001b[49m\n\u001b[0;32m    660\u001b[0m     \u001b[38;5;28;01melse\u001b[39;00m:\n\u001b[0;32m    661\u001b[0m         \u001b[38;5;28;01mif\u001b[39;00m \u001b[38;5;124m\"\u001b[39m\u001b[38;5;124mw\u001b[39m\u001b[38;5;124m\"\u001b[39m \u001b[38;5;129;01min\u001b[39;00m mode:\n",
      "File \u001b[1;32mc:\\Users\\Ye\\miniconda3\\envs\\traffic_predictor_3_9\\lib\\site-packages\\torch\\serialization.py:640\u001b[0m, in \u001b[0;36m_open_file.__init__\u001b[1;34m(self, name, mode)\u001b[0m\n\u001b[0;32m    639\u001b[0m \u001b[38;5;28;01mdef\u001b[39;00m \u001b[38;5;21m__init__\u001b[39m(\u001b[38;5;28mself\u001b[39m, name, mode):\n\u001b[1;32m--> 640\u001b[0m     \u001b[38;5;28msuper\u001b[39m()\u001b[38;5;241m.\u001b[39m\u001b[38;5;21m__init__\u001b[39m(\u001b[38;5;28;43mopen\u001b[39;49m\u001b[43m(\u001b[49m\u001b[43mname\u001b[49m\u001b[43m,\u001b[49m\u001b[43m \u001b[49m\u001b[43mmode\u001b[49m\u001b[43m)\u001b[49m)\n",
      "\u001b[1;31mFileNotFoundError\u001b[0m: [Errno 2] No such file or directory: 'Models//actor_0_best.pth'"
     ]
    }
   ],
   "source": [
    "import matplotlib.pyplot as plt\n",
    "\n",
    "agent_eval = Agent(\n",
    "    state_dim=envInterface.state_dim, \n",
    "    action_dim=envInterface.action_dim, \n",
    "    **hyperparams\n",
    ")\n",
    "agent_eval.load_model(\"Models/\", f'{N_exp}_best')\n",
    "\n",
    "LEN_eval = 500\n",
    "\n",
    "reward, info = eval(agent_eval, env, envInterface, LEN_eval=LEN_eval, obvMode=\"predicted\", sample_method=\"greedy\", N_action_candidates=50, eta=0.5, verbose=True) \n",
    "reward_off = np.array(dataset_off['rewards'])[np.random.randint(0, len(dataset_off['rewards']), LEN_eval)]\n",
    "print(f\"reward_off: {np.mean(reward_off)}, reward_policy: {np.mean(reward)}, \")\n",
    "\n",
    "fig, axs = plt.subplots(1, 1, figsize=(5, 2))\n",
    "plt.plot(reward_off, label=\"offline dataset\")\n",
    "plt.plot(info['rewards'], label=\"policy\")\n",
    "plt.legend()\n",
    "plt.show()"
   ]
  },
  {
   "cell_type": "code",
   "execution_count": null,
   "metadata": {},
   "outputs": [],
   "source": [
    "action_off = dataset_off['actions']\n",
    "action = info['actions']\n",
    "\n",
    "obv_off = [M for [w, r, M, alpha] in action_off]\n",
    "obv = [M for [w, r, M, alpha] in action]\n",
    "\n",
    "fig, axs = plt.subplots(1, 1, figsize=(5, 2))\n",
    "plt.plot(obv_off[:len(obv)], label=\"offline\")\n",
    "plt.show()\n",
    "fig, axs = plt.subplots(1, 1, figsize=(5, 2))\n",
    "plt.plot(obv, label=\"online\")\n",
    "plt.legend()\n",
    "plt.show()"
   ]
  },
  {
   "cell_type": "code",
   "execution_count": null,
   "metadata": {},
   "outputs": [
    {
     "name": "stdout",
     "output_type": "stream",
     "text": [
      "(array([0, 0, 0, 1, 0, 0, 0, 0]), array([100. ,  20. , 100. ,  87.2, 103.2,  96.8,   0.8, 180. ]), 9, 0.09999999999999998)\n"
     ]
    }
   ],
   "source": [
    "spend_off = np.sum([w*r for [w, r, M, alpha] in action_off], axis=1)\n",
    "spend_on = np.sum([w*r for [w, r, M, alpha] in action], axis=1)\n",
    "alpha_off = np.array([alpha for [w, r, M, alpha] in action_off])\n",
    "alpha_on = np.array([alpha for [w, r, M, alpha] in action])\n",
    "\n",
    "print(action[0])\n",
    "\n",
    "fig, axs = plt.subplots(1, 1, figsize=(5, 2))\n",
    "#plt.plot(spend_off - alpha_off*envParams['B'], label=\"offline\")\n",
    "plt.plot(spend_on - alpha_on*envParams['B'], label=\"online\")\n",
    "#plt.plot(alpha_off, label=\"offline\")\n",
    "#plt.plot(alpha_on, label=\"online\")\n",
    "plt.legend()\n",
    "plt.show()"
   ]
  }
 ],
 "metadata": {
  "kernelspec": {
   "display_name": "traffic_predictor_3_9",
   "language": "python",
   "name": "python3"
  },
  "language_info": {
   "codemirror_mode": {
    "name": "ipython",
    "version": 3
   },
   "file_extension": ".py",
   "mimetype": "text/x-python",
   "name": "python",
   "nbconvert_exporter": "python",
   "pygments_lexer": "ipython3",
   "version": "3.9.20"
  }
 },
 "nbformat": 4,
 "nbformat_minor": 2
}
