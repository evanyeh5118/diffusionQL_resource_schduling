{
 "cells": [
  {
   "cell_type": "code",
   "execution_count": null,
   "id": "cb1e729a",
   "metadata": {},
   "outputs": [],
   "source": [
    "import os\n",
    "os.environ[\"KMP_DUPLICATE_LIB_OK\"]=\"TRUE\"\n",
    "\n",
    "import numpy as np\n",
    "import matplotlib.pyplot as plt\n",
    "import pickle\n",
    "import torch\n",
    "from torch.utils.data import DataLoader, TensorDataset\n",
    "from tqdm import tqdm\n",
    "\n",
    "\n",
    "import sys\n",
    "sys.path.append(\"../../../../\"\n",
    ")\n",
    "from src.difsched.utils import ReplayBuffer\n",
    "from src.difsched.agents.mdp import MdpKernel\n",
    "#sys.path.append(os.path.abspath(\"../../Diffusion-Policies-for-Offline-RL\"))\n",
    "from src.difsched.agents.Dql_external.dql import Diffusion_QL"
   ]
  },
  {
   "cell_type": "code",
   "execution_count": 2,
   "id": "2cef2beb",
   "metadata": {},
   "outputs": [],
   "source": [
    "import numpy as np\n",
    "\n",
    "def normalize_data(data, min_val, max_val):\n",
    "    # Map data in [min_val, max_val] to [-1, 1]\n",
    "    return 2 * (data - min_val) / (max_val - min_val) - 1\n",
    "\n",
    "def denormalize_data(data, min_val, max_val):\n",
    "    # Map data in [-1, 1] back to [min_val, max_val]\n",
    "    return (data + 1) / 2 * (max_val - min_val) + min_val\n",
    "\n",
    "\n",
    "def generate_transition_and_reward(N_s, N_a, seed=None):\n",
    "    if seed is not None:\n",
    "        np.random.seed(seed)\n",
    "    \n",
    "    # Random transition probabilities\n",
    "    P = np.random.rand(N_s, N_a, N_s)\n",
    "    # Normalize over next-states axis so that ∑_s' P(s'|s,a) = 1\n",
    "    P /= P.sum(axis=2, keepdims=True)\n",
    "    \n",
    "    # Random rewards\n",
    "    R = np.random.rand(N_s, N_a)\n",
    "    P = np.transpose(P, (0, 2, 1))\n",
    "    \n",
    "    return P, R\n",
    "\n",
    "def evaluate_diffusionQ(diffusionQ, R, P, N_s, N_a, N_iter=100, sample_method=\"greedy\"):\n",
    "    metrics  = {'s_record': [], 'a_record': [], 'r_record': [], 's_next_record': []}\n",
    "    s_init = np.random.randint(0, N_s)\n",
    "    s = s_init\n",
    "    for _ in tqdm(range(N_iter), leave=False):\n",
    "        s_DQ = torch.as_tensor([normalize_data(s, 0, N_s-1)], dtype=torch.float32).to(diffusionQ.device)\n",
    "        a_DQ = diffusionQ.sample_action(s_DQ.unsqueeze(-1), sample_method=sample_method)\n",
    "        a = denormalize_data(a_DQ, 0, N_a-1).astype(int)[0]\n",
    "        r = R[s, a]\n",
    "        s_next = generate_next_state(P[:, :, a], s)\n",
    "        s = s_next\n",
    "        metrics['s_record'].append([s])\n",
    "        metrics['a_record'].append([a])\n",
    "        metrics['r_record'].append([r])\n",
    "        metrics['s_next_record'].append([s_next])\n",
    "\n",
    "    return np.mean(metrics['r_record']), metrics\n",
    "\n",
    "def evaluate_deterministic_policy(policyDeter, R, P, sRecord, N_s, N_iter=100):\n",
    "    metrics  = {'s_record': [], 'a_record': [], 'r_record': [], 's_next_record': []}\n",
    "    if P is None and sRecord is None:\n",
    "        raise ValueError(\"Either P or sRecord must be provided\")\n",
    "\n",
    "    if P is None:\n",
    "        s = sRecord\n",
    "    else:\n",
    "        s = np.random.randint(0, N_s) \n",
    "\n",
    "    for i in tqdm(range(N_iter), leave=False):\n",
    "        if P is None:\n",
    "            s = sRecord[i]\n",
    "        else:\n",
    "            s_next = generate_next_state(P[:, :, policyDeter[s]], s)\n",
    "        a = policyDeter[s]\n",
    "        r = R[s, a]\n",
    "        metrics['r_record'].append([r])\n",
    "        if P is not None:\n",
    "            metrics['s_record'].append([s])\n",
    "            metrics['a_record'].append([a])\n",
    "            metrics['s_next_record'].append([s_next])\n",
    "            s = s_next\n",
    "    return np.mean(metrics['r_record']), metrics\n",
    "\n",
    "def extract_deterministic_policy(diffusionQ, N_s, N_a, sample_method=\"greedy\"   ):\n",
    "    policy_deterministic = []\n",
    "    for s in tqdm(range(N_s), leave=False):\n",
    "        s_DQ = torch.as_tensor([normalize_data(s, 0, N_s-1)], dtype=torch.float32).to(diffusionQ.device)\n",
    "        a_DQ = diffusionQ.sample_action(s_DQ.unsqueeze(-1), sample_method=sample_method)[0]\n",
    "        a = denormalize_data(a_DQ, 0, N_a-1).astype(int)\n",
    "        policy_deterministic.append(a)\n",
    "    return policy_deterministic\n"
   ]
  },
  {
   "cell_type": "code",
   "execution_count": 3,
   "id": "a06cfe22",
   "metadata": {},
   "outputs": [
    {
     "name": "stdout",
     "output_type": "stream",
     "text": [
      "[[0.67918602 0.13145189 0.11357647 0.61079304]\n",
      " [0.04191794 0.81719606 0.98816978 0.28420654]\n",
      " [0.68759066 0.68304571 0.00542148 0.80897017]\n",
      " [0.57091093 0.76788478 0.28030813 0.37841846]]\n",
      "(4, 4, 4)\n",
      "(4, 4)\n"
     ]
    },
    {
     "name": "stderr",
     "output_type": "stream",
     "text": [
      "Value Iteration: 100%|██████████| 1000/1000 [00:00<00:00, 1908.33it/s, V=-83.453784]"
     ]
    },
    {
     "name": "stdout",
     "output_type": "stream",
     "text": [
      "[-83.35144674 -83.61016774 -83.46227102 -83.39125144]\n",
      "[0 2 3 1]\n"
     ]
    },
    {
     "name": "stderr",
     "output_type": "stream",
     "text": [
      "\n"
     ]
    }
   ],
   "source": [
    "# Example usage:\n",
    "N_s = 4  # number of states\n",
    "N_a = 4\n",
    "  # number of actions\n",
    "P, R = generate_transition_and_reward(N_s, N_a, seed=995)\n",
    "print(R)\n",
    "print(P.shape)\n",
    "print(R.shape)\n",
    "\n",
    "mdpKernel = MdpKernel()\n",
    "mdpKernel.N_states = N_s\n",
    "mdpKernel.N_actions = N_a\n",
    "mdpKernel.transitionTable = P\n",
    "mdpKernel.rewardTable = -R\n",
    "V, policyDeter = mdpKernel.optimize_policy(mode=\"deterministic\", gamma=0.99, theta=1e-10)\n",
    "print(V)\n",
    "print(policyDeter)\n"
   ]
  },
  {
   "cell_type": "code",
   "execution_count": 4,
   "id": "168df368",
   "metadata": {},
   "outputs": [
    {
     "name": "stderr",
     "output_type": "stream",
     "text": [
      "                                                       "
     ]
    },
    {
     "name": "stdout",
     "output_type": "stream",
     "text": [
      "Avg Reward MDP: 0.8342602392324928\n"
     ]
    },
    {
     "name": "stderr",
     "output_type": "stream",
     "text": [
      "\r"
     ]
    }
   ],
   "source": [
    "diffusionQ = Diffusion_QL( \n",
    "    state_dim=1,\n",
    "    action_dim=1,\n",
    "    max_action=1,\n",
    "    device='cuda',\n",
    "    discount=0.99,\n",
    "    tau=0.005)\n",
    "\n",
    "N_iter = 10000 \n",
    "r_mdp, metrics = evaluate_deterministic_policy(policyDeter, R, P, sRecord=None, N_s=N_s, N_iter=N_iter)\n",
    "print(f\"Avg Reward MDP: {r_mdp}\")"
   ]
  },
  {
   "cell_type": "code",
   "execution_count": 8,
   "id": "385dd7fe",
   "metadata": {},
   "outputs": [
    {
     "name": "stderr",
     "output_type": "stream",
     "text": [
      "                                                      \r"
     ]
    },
    {
     "name": "stdout",
     "output_type": "stream",
     "text": [
      "Avg Reward MDP: 0.8344596318286731\n"
     ]
    },
    {
     "name": "stderr",
     "output_type": "stream",
     "text": [
      "Epoch:  10%|█         | 100/1000 [01:19<1:47:13,  7.15s/epoch, L_actor=1.799448, L_critic=5.805151]"
     ]
    },
    {
     "name": "stdout",
     "output_type": "stream",
     "text": [
      "Epoch 100/1000 L_actor: 0.929092,  L_critic: 6.119413,  r_DQ: 0.30662726255317807, [0 2 3 1] => [0, 0, 2, 2]\n"
     ]
    },
    {
     "name": "stderr",
     "output_type": "stream",
     "text": [
      "Epoch:  20%|██        | 200/1000 [02:49<1:52:33,  8.44s/epoch, L_actor=-0.714319, L_critic=4.983795]"
     ]
    },
    {
     "name": "stdout",
     "output_type": "stream",
     "text": [
      "Epoch 200/1000 L_actor: 0.513368,  L_critic: 5.900342,  r_DQ: 0.479830231363773, [0 2 3 1] => [0, 1, 2, 2]\n"
     ]
    },
    {
     "name": "stderr",
     "output_type": "stream",
     "text": [
      "Epoch:  30%|███       | 300/1000 [04:14<1:19:55,  6.85s/epoch, L_actor=-2.517940, L_critic=5.626985]"
     ]
    },
    {
     "name": "stdout",
     "output_type": "stream",
     "text": [
      "Epoch 300/1000 L_actor: -0.352703,  L_critic: 5.602450,  r_DQ: 0.5274882591128633, [0 2 3 1] => [0, 2, 2, 2]\n"
     ]
    },
    {
     "name": "stderr",
     "output_type": "stream",
     "text": [
      "Epoch:  40%|████      | 400/1000 [05:44<1:16:10,  7.62s/epoch, L_actor=-15.899167, L_critic=5.167257]"
     ]
    },
    {
     "name": "stdout",
     "output_type": "stream",
     "text": [
      "Epoch 400/1000 L_actor: -2.622108,  L_critic: 5.316918,  r_DQ: 0.45575822948236744, [0 2 3 1] => [2, 2, 2, 2]\n"
     ]
    },
    {
     "name": "stderr",
     "output_type": "stream",
     "text": [
      "                                                                                                     \r"
     ]
    },
    {
     "ename": "KeyboardInterrupt",
     "evalue": "",
     "output_type": "error",
     "traceback": [
      "\u001b[1;31m---------------------------------------------------------------------------\u001b[0m",
      "\u001b[1;31mKeyboardInterrupt\u001b[0m                         Traceback (most recent call last)",
      "Cell \u001b[1;32mIn[8], line 41\u001b[0m\n\u001b[0;32m     34\u001b[0m samples \u001b[38;5;241m=\u001b[39m rb\u001b[38;5;241m.\u001b[39msample(batch_size)\n\u001b[0;32m     35\u001b[0m batch \u001b[38;5;241m=\u001b[39m (\n\u001b[0;32m     36\u001b[0m     torch\u001b[38;5;241m.\u001b[39mas_tensor(samples[\u001b[38;5;241m0\u001b[39m], dtype\u001b[38;5;241m=\u001b[39mtorch\u001b[38;5;241m.\u001b[39mfloat32)\u001b[38;5;241m.\u001b[39mto(diffusionQ\u001b[38;5;241m.\u001b[39mdevice), \n\u001b[0;32m     37\u001b[0m     torch\u001b[38;5;241m.\u001b[39mas_tensor(samples[\u001b[38;5;241m1\u001b[39m], dtype\u001b[38;5;241m=\u001b[39mtorch\u001b[38;5;241m.\u001b[39mfloat32)\u001b[38;5;241m.\u001b[39mto(diffusionQ\u001b[38;5;241m.\u001b[39mdevice), \n\u001b[0;32m     38\u001b[0m     torch\u001b[38;5;241m.\u001b[39mas_tensor(samples[\u001b[38;5;241m2\u001b[39m], dtype\u001b[38;5;241m=\u001b[39mtorch\u001b[38;5;241m.\u001b[39mfloat32)\u001b[38;5;241m.\u001b[39mto(diffusionQ\u001b[38;5;241m.\u001b[39mdevice), \n\u001b[0;32m     39\u001b[0m     torch\u001b[38;5;241m.\u001b[39mas_tensor(samples[\u001b[38;5;241m3\u001b[39m], dtype\u001b[38;5;241m=\u001b[39mtorch\u001b[38;5;241m.\u001b[39mfloat32)\u001b[38;5;241m.\u001b[39mto(diffusionQ\u001b[38;5;241m.\u001b[39mdevice)\n\u001b[0;32m     40\u001b[0m )\n\u001b[1;32m---> 41\u001b[0m L_actor, L_critic \u001b[38;5;241m=\u001b[39m \u001b[43mdiffusionQ\u001b[49m\u001b[38;5;241;43m.\u001b[39;49m\u001b[43mupdate\u001b[49m\u001b[43m(\u001b[49m\u001b[43mbatch\u001b[49m\u001b[43m)\u001b[49m\n\u001b[0;32m     42\u001b[0m metric[\u001b[38;5;124m'\u001b[39m\u001b[38;5;124mL_actor\u001b[39m\u001b[38;5;124m'\u001b[39m]\u001b[38;5;241m.\u001b[39mappend(L_actor)\n\u001b[0;32m     43\u001b[0m metric[\u001b[38;5;124m'\u001b[39m\u001b[38;5;124mL_critic\u001b[39m\u001b[38;5;124m'\u001b[39m]\u001b[38;5;241m.\u001b[39mappend(L_critic)\n",
      "File \u001b[1;32mc:\\Users\\Ye\\Documents\\YuYeh_Documents\\L2S\\Projects\\diffusion_resource_schduling_intra_slice\\Examples\\..\\Agents\\Dql_external\\dql.py:120\u001b[0m, in \u001b[0;36mDiffusion_QL.update\u001b[1;34m(self, batch)\u001b[0m\n\u001b[0;32m    118\u001b[0m     target_q \u001b[38;5;241m=\u001b[39m torch\u001b[38;5;241m.\u001b[39mmin(target_q1, target_q2)\n\u001b[0;32m    119\u001b[0m \u001b[38;5;28;01melse\u001b[39;00m:\n\u001b[1;32m--> 120\u001b[0m     next_action \u001b[38;5;241m=\u001b[39m \u001b[38;5;28;43mself\u001b[39;49m\u001b[38;5;241;43m.\u001b[39;49m\u001b[43mema_model\u001b[49m\u001b[43m(\u001b[49m\u001b[43mnext_state\u001b[49m\u001b[43m)\u001b[49m\n\u001b[0;32m    121\u001b[0m     target_q1, target_q2 \u001b[38;5;241m=\u001b[39m \u001b[38;5;28mself\u001b[39m\u001b[38;5;241m.\u001b[39mcritic_target(next_state, next_action)\n\u001b[0;32m    122\u001b[0m     target_q \u001b[38;5;241m=\u001b[39m torch\u001b[38;5;241m.\u001b[39mmin(target_q1, target_q2)\n",
      "File \u001b[1;32mc:\\Users\\Ye\\miniconda3\\envs\\traffic_predictor_3_9\\lib\\site-packages\\torch\\nn\\modules\\module.py:1736\u001b[0m, in \u001b[0;36mModule._wrapped_call_impl\u001b[1;34m(self, *args, **kwargs)\u001b[0m\n\u001b[0;32m   1734\u001b[0m     \u001b[38;5;28;01mreturn\u001b[39;00m \u001b[38;5;28mself\u001b[39m\u001b[38;5;241m.\u001b[39m_compiled_call_impl(\u001b[38;5;241m*\u001b[39margs, \u001b[38;5;241m*\u001b[39m\u001b[38;5;241m*\u001b[39mkwargs)  \u001b[38;5;66;03m# type: ignore[misc]\u001b[39;00m\n\u001b[0;32m   1735\u001b[0m \u001b[38;5;28;01melse\u001b[39;00m:\n\u001b[1;32m-> 1736\u001b[0m     \u001b[38;5;28;01mreturn\u001b[39;00m \u001b[38;5;28mself\u001b[39m\u001b[38;5;241m.\u001b[39m_call_impl(\u001b[38;5;241m*\u001b[39margs, \u001b[38;5;241m*\u001b[39m\u001b[38;5;241m*\u001b[39mkwargs)\n",
      "File \u001b[1;32mc:\\Users\\Ye\\miniconda3\\envs\\traffic_predictor_3_9\\lib\\site-packages\\torch\\nn\\modules\\module.py:1747\u001b[0m, in \u001b[0;36mModule._call_impl\u001b[1;34m(self, *args, **kwargs)\u001b[0m\n\u001b[0;32m   1742\u001b[0m \u001b[38;5;66;03m# If we don't have any hooks, we want to skip the rest of the logic in\u001b[39;00m\n\u001b[0;32m   1743\u001b[0m \u001b[38;5;66;03m# this function, and just call forward.\u001b[39;00m\n\u001b[0;32m   1744\u001b[0m \u001b[38;5;28;01mif\u001b[39;00m \u001b[38;5;129;01mnot\u001b[39;00m (\u001b[38;5;28mself\u001b[39m\u001b[38;5;241m.\u001b[39m_backward_hooks \u001b[38;5;129;01mor\u001b[39;00m \u001b[38;5;28mself\u001b[39m\u001b[38;5;241m.\u001b[39m_backward_pre_hooks \u001b[38;5;129;01mor\u001b[39;00m \u001b[38;5;28mself\u001b[39m\u001b[38;5;241m.\u001b[39m_forward_hooks \u001b[38;5;129;01mor\u001b[39;00m \u001b[38;5;28mself\u001b[39m\u001b[38;5;241m.\u001b[39m_forward_pre_hooks\n\u001b[0;32m   1745\u001b[0m         \u001b[38;5;129;01mor\u001b[39;00m _global_backward_pre_hooks \u001b[38;5;129;01mor\u001b[39;00m _global_backward_hooks\n\u001b[0;32m   1746\u001b[0m         \u001b[38;5;129;01mor\u001b[39;00m _global_forward_hooks \u001b[38;5;129;01mor\u001b[39;00m _global_forward_pre_hooks):\n\u001b[1;32m-> 1747\u001b[0m     \u001b[38;5;28;01mreturn\u001b[39;00m forward_call(\u001b[38;5;241m*\u001b[39margs, \u001b[38;5;241m*\u001b[39m\u001b[38;5;241m*\u001b[39mkwargs)\n\u001b[0;32m   1749\u001b[0m result \u001b[38;5;241m=\u001b[39m \u001b[38;5;28;01mNone\u001b[39;00m\n\u001b[0;32m   1750\u001b[0m called_always_called_hooks \u001b[38;5;241m=\u001b[39m \u001b[38;5;28mset\u001b[39m()\n",
      "File \u001b[1;32mc:\\Users\\Ye\\Documents\\YuYeh_Documents\\L2S\\Projects\\Diffusion-Policies-for-Offline-RL\\agents\\diffusion.py:182\u001b[0m, in \u001b[0;36mDiffusion.forward\u001b[1;34m(self, state, *args, **kwargs)\u001b[0m\n\u001b[0;32m    181\u001b[0m \u001b[38;5;28;01mdef\u001b[39;00m \u001b[38;5;21mforward\u001b[39m(\u001b[38;5;28mself\u001b[39m, state, \u001b[38;5;241m*\u001b[39margs, \u001b[38;5;241m*\u001b[39m\u001b[38;5;241m*\u001b[39mkwargs):\n\u001b[1;32m--> 182\u001b[0m     \u001b[38;5;28;01mreturn\u001b[39;00m \u001b[38;5;28mself\u001b[39m\u001b[38;5;241m.\u001b[39msample(state, \u001b[38;5;241m*\u001b[39margs, \u001b[38;5;241m*\u001b[39m\u001b[38;5;241m*\u001b[39mkwargs)\n",
      "File \u001b[1;32mc:\\Users\\Ye\\Documents\\YuYeh_Documents\\L2S\\Projects\\Diffusion-Policies-for-Offline-RL\\agents\\diffusion.py:144\u001b[0m, in \u001b[0;36mDiffusion.sample\u001b[1;34m(self, state, *args, **kwargs)\u001b[0m\n\u001b[0;32m    142\u001b[0m batch_size \u001b[38;5;241m=\u001b[39m state\u001b[38;5;241m.\u001b[39mshape[\u001b[38;5;241m0\u001b[39m]\n\u001b[0;32m    143\u001b[0m shape \u001b[38;5;241m=\u001b[39m (batch_size, \u001b[38;5;28mself\u001b[39m\u001b[38;5;241m.\u001b[39maction_dim)\n\u001b[1;32m--> 144\u001b[0m action \u001b[38;5;241m=\u001b[39m \u001b[38;5;28mself\u001b[39m\u001b[38;5;241m.\u001b[39mp_sample_loop(state, shape, \u001b[38;5;241m*\u001b[39margs, \u001b[38;5;241m*\u001b[39m\u001b[38;5;241m*\u001b[39mkwargs)\n\u001b[0;32m    145\u001b[0m \u001b[38;5;28;01mreturn\u001b[39;00m action\u001b[38;5;241m.\u001b[39mclamp_(\u001b[38;5;241m-\u001b[39m\u001b[38;5;28mself\u001b[39m\u001b[38;5;241m.\u001b[39mmax_action, \u001b[38;5;28mself\u001b[39m\u001b[38;5;241m.\u001b[39mmax_action)\n",
      "File \u001b[1;32mc:\\Users\\Ye\\Documents\\YuYeh_Documents\\L2S\\Projects\\Diffusion-Policies-for-Offline-RL\\agents\\diffusion.py:127\u001b[0m, in \u001b[0;36mDiffusion.p_sample_loop\u001b[1;34m(self, state, shape, verbose, return_diffusion)\u001b[0m\n\u001b[0;32m    125\u001b[0m \u001b[38;5;28;01mfor\u001b[39;00m i \u001b[38;5;129;01min\u001b[39;00m \u001b[38;5;28mreversed\u001b[39m(\u001b[38;5;28mrange\u001b[39m(\u001b[38;5;241m0\u001b[39m, \u001b[38;5;28mself\u001b[39m\u001b[38;5;241m.\u001b[39mn_timesteps)):\n\u001b[0;32m    126\u001b[0m     timesteps \u001b[38;5;241m=\u001b[39m torch\u001b[38;5;241m.\u001b[39mfull((batch_size,), i, device\u001b[38;5;241m=\u001b[39mdevice, dtype\u001b[38;5;241m=\u001b[39mtorch\u001b[38;5;241m.\u001b[39mlong)\n\u001b[1;32m--> 127\u001b[0m     x \u001b[38;5;241m=\u001b[39m \u001b[38;5;28;43mself\u001b[39;49m\u001b[38;5;241;43m.\u001b[39;49m\u001b[43mp_sample\u001b[49m\u001b[43m(\u001b[49m\u001b[43mx\u001b[49m\u001b[43m,\u001b[49m\u001b[43m \u001b[49m\u001b[43mtimesteps\u001b[49m\u001b[43m,\u001b[49m\u001b[43m \u001b[49m\u001b[43mstate\u001b[49m\u001b[43m)\u001b[49m\n\u001b[0;32m    129\u001b[0m     progress\u001b[38;5;241m.\u001b[39mupdate({\u001b[38;5;124m'\u001b[39m\u001b[38;5;124mt\u001b[39m\u001b[38;5;124m'\u001b[39m: i})\n\u001b[0;32m    131\u001b[0m     \u001b[38;5;28;01mif\u001b[39;00m return_diffusion: diffusion\u001b[38;5;241m.\u001b[39mappend(x)\n",
      "File \u001b[1;32mc:\\Users\\Ye\\Documents\\YuYeh_Documents\\L2S\\Projects\\Diffusion-Policies-for-Offline-RL\\agents\\diffusion.py:109\u001b[0m, in \u001b[0;36mDiffusion.p_sample\u001b[1;34m(self, x, t, s)\u001b[0m\n\u001b[0;32m    107\u001b[0m \u001b[38;5;28;01mdef\u001b[39;00m \u001b[38;5;21mp_sample\u001b[39m(\u001b[38;5;28mself\u001b[39m, x, t, s):\n\u001b[0;32m    108\u001b[0m     b, \u001b[38;5;241m*\u001b[39m_, device \u001b[38;5;241m=\u001b[39m \u001b[38;5;241m*\u001b[39mx\u001b[38;5;241m.\u001b[39mshape, x\u001b[38;5;241m.\u001b[39mdevice\n\u001b[1;32m--> 109\u001b[0m     model_mean, _, model_log_variance \u001b[38;5;241m=\u001b[39m \u001b[38;5;28;43mself\u001b[39;49m\u001b[38;5;241;43m.\u001b[39;49m\u001b[43mp_mean_variance\u001b[49m\u001b[43m(\u001b[49m\u001b[43mx\u001b[49m\u001b[38;5;241;43m=\u001b[39;49m\u001b[43mx\u001b[49m\u001b[43m,\u001b[49m\u001b[43m \u001b[49m\u001b[43mt\u001b[49m\u001b[38;5;241;43m=\u001b[39;49m\u001b[43mt\u001b[49m\u001b[43m,\u001b[49m\u001b[43m \u001b[49m\u001b[43ms\u001b[49m\u001b[38;5;241;43m=\u001b[39;49m\u001b[43ms\u001b[49m\u001b[43m)\u001b[49m\n\u001b[0;32m    110\u001b[0m     noise \u001b[38;5;241m=\u001b[39m torch\u001b[38;5;241m.\u001b[39mrandn_like(x)\n\u001b[0;32m    111\u001b[0m     \u001b[38;5;66;03m# no noise when t == 0\u001b[39;00m\n",
      "File \u001b[1;32mc:\\Users\\Ye\\Documents\\YuYeh_Documents\\L2S\\Projects\\Diffusion-Policies-for-Offline-RL\\agents\\diffusion.py:96\u001b[0m, in \u001b[0;36mDiffusion.p_mean_variance\u001b[1;34m(self, x, t, s)\u001b[0m\n\u001b[0;32m     95\u001b[0m \u001b[38;5;28;01mdef\u001b[39;00m \u001b[38;5;21mp_mean_variance\u001b[39m(\u001b[38;5;28mself\u001b[39m, x, t, s):\n\u001b[1;32m---> 96\u001b[0m     x_recon \u001b[38;5;241m=\u001b[39m \u001b[38;5;28mself\u001b[39m\u001b[38;5;241m.\u001b[39mpredict_start_from_noise(x, t\u001b[38;5;241m=\u001b[39mt, noise\u001b[38;5;241m=\u001b[39m\u001b[38;5;28;43mself\u001b[39;49m\u001b[38;5;241;43m.\u001b[39;49m\u001b[43mmodel\u001b[49m\u001b[43m(\u001b[49m\u001b[43mx\u001b[49m\u001b[43m,\u001b[49m\u001b[43m \u001b[49m\u001b[43mt\u001b[49m\u001b[43m,\u001b[49m\u001b[43m \u001b[49m\u001b[43ms\u001b[49m\u001b[43m)\u001b[49m)\n\u001b[0;32m     98\u001b[0m     \u001b[38;5;28;01mif\u001b[39;00m \u001b[38;5;28mself\u001b[39m\u001b[38;5;241m.\u001b[39mclip_denoised:\n\u001b[0;32m     99\u001b[0m         x_recon\u001b[38;5;241m.\u001b[39mclamp_(\u001b[38;5;241m-\u001b[39m\u001b[38;5;28mself\u001b[39m\u001b[38;5;241m.\u001b[39mmax_action, \u001b[38;5;28mself\u001b[39m\u001b[38;5;241m.\u001b[39mmax_action)\n",
      "File \u001b[1;32mc:\\Users\\Ye\\miniconda3\\envs\\traffic_predictor_3_9\\lib\\site-packages\\torch\\nn\\modules\\module.py:1736\u001b[0m, in \u001b[0;36mModule._wrapped_call_impl\u001b[1;34m(self, *args, **kwargs)\u001b[0m\n\u001b[0;32m   1734\u001b[0m     \u001b[38;5;28;01mreturn\u001b[39;00m \u001b[38;5;28mself\u001b[39m\u001b[38;5;241m.\u001b[39m_compiled_call_impl(\u001b[38;5;241m*\u001b[39margs, \u001b[38;5;241m*\u001b[39m\u001b[38;5;241m*\u001b[39mkwargs)  \u001b[38;5;66;03m# type: ignore[misc]\u001b[39;00m\n\u001b[0;32m   1735\u001b[0m \u001b[38;5;28;01melse\u001b[39;00m:\n\u001b[1;32m-> 1736\u001b[0m     \u001b[38;5;28;01mreturn\u001b[39;00m \u001b[38;5;28mself\u001b[39m\u001b[38;5;241m.\u001b[39m_call_impl(\u001b[38;5;241m*\u001b[39margs, \u001b[38;5;241m*\u001b[39m\u001b[38;5;241m*\u001b[39mkwargs)\n",
      "File \u001b[1;32mc:\\Users\\Ye\\miniconda3\\envs\\traffic_predictor_3_9\\lib\\site-packages\\torch\\nn\\modules\\module.py:1747\u001b[0m, in \u001b[0;36mModule._call_impl\u001b[1;34m(self, *args, **kwargs)\u001b[0m\n\u001b[0;32m   1742\u001b[0m \u001b[38;5;66;03m# If we don't have any hooks, we want to skip the rest of the logic in\u001b[39;00m\n\u001b[0;32m   1743\u001b[0m \u001b[38;5;66;03m# this function, and just call forward.\u001b[39;00m\n\u001b[0;32m   1744\u001b[0m \u001b[38;5;28;01mif\u001b[39;00m \u001b[38;5;129;01mnot\u001b[39;00m (\u001b[38;5;28mself\u001b[39m\u001b[38;5;241m.\u001b[39m_backward_hooks \u001b[38;5;129;01mor\u001b[39;00m \u001b[38;5;28mself\u001b[39m\u001b[38;5;241m.\u001b[39m_backward_pre_hooks \u001b[38;5;129;01mor\u001b[39;00m \u001b[38;5;28mself\u001b[39m\u001b[38;5;241m.\u001b[39m_forward_hooks \u001b[38;5;129;01mor\u001b[39;00m \u001b[38;5;28mself\u001b[39m\u001b[38;5;241m.\u001b[39m_forward_pre_hooks\n\u001b[0;32m   1745\u001b[0m         \u001b[38;5;129;01mor\u001b[39;00m _global_backward_pre_hooks \u001b[38;5;129;01mor\u001b[39;00m _global_backward_hooks\n\u001b[0;32m   1746\u001b[0m         \u001b[38;5;129;01mor\u001b[39;00m _global_forward_hooks \u001b[38;5;129;01mor\u001b[39;00m _global_forward_pre_hooks):\n\u001b[1;32m-> 1747\u001b[0m     \u001b[38;5;28;01mreturn\u001b[39;00m forward_call(\u001b[38;5;241m*\u001b[39margs, \u001b[38;5;241m*\u001b[39m\u001b[38;5;241m*\u001b[39mkwargs)\n\u001b[0;32m   1749\u001b[0m result \u001b[38;5;241m=\u001b[39m \u001b[38;5;28;01mNone\u001b[39;00m\n\u001b[0;32m   1750\u001b[0m called_always_called_hooks \u001b[38;5;241m=\u001b[39m \u001b[38;5;28mset\u001b[39m()\n",
      "File \u001b[1;32mc:\\Users\\Ye\\Documents\\YuYeh_Documents\\L2S\\Projects\\Diffusion-Policies-for-Offline-RL\\agents\\model.py:46\u001b[0m, in \u001b[0;36mMLP.forward\u001b[1;34m(self, x, time, state)\u001b[0m\n\u001b[0;32m     44\u001b[0m t \u001b[38;5;241m=\u001b[39m \u001b[38;5;28mself\u001b[39m\u001b[38;5;241m.\u001b[39mtime_mlp(time)\n\u001b[0;32m     45\u001b[0m x \u001b[38;5;241m=\u001b[39m torch\u001b[38;5;241m.\u001b[39mcat([x, t, state], dim\u001b[38;5;241m=\u001b[39m\u001b[38;5;241m1\u001b[39m)\n\u001b[1;32m---> 46\u001b[0m x \u001b[38;5;241m=\u001b[39m \u001b[38;5;28;43mself\u001b[39;49m\u001b[38;5;241;43m.\u001b[39;49m\u001b[43mmid_layer\u001b[49m\u001b[43m(\u001b[49m\u001b[43mx\u001b[49m\u001b[43m)\u001b[49m\n\u001b[0;32m     48\u001b[0m \u001b[38;5;28;01mreturn\u001b[39;00m \u001b[38;5;28mself\u001b[39m\u001b[38;5;241m.\u001b[39mfinal_layer(x)\n",
      "File \u001b[1;32mc:\\Users\\Ye\\miniconda3\\envs\\traffic_predictor_3_9\\lib\\site-packages\\torch\\nn\\modules\\module.py:1736\u001b[0m, in \u001b[0;36mModule._wrapped_call_impl\u001b[1;34m(self, *args, **kwargs)\u001b[0m\n\u001b[0;32m   1734\u001b[0m     \u001b[38;5;28;01mreturn\u001b[39;00m \u001b[38;5;28mself\u001b[39m\u001b[38;5;241m.\u001b[39m_compiled_call_impl(\u001b[38;5;241m*\u001b[39margs, \u001b[38;5;241m*\u001b[39m\u001b[38;5;241m*\u001b[39mkwargs)  \u001b[38;5;66;03m# type: ignore[misc]\u001b[39;00m\n\u001b[0;32m   1735\u001b[0m \u001b[38;5;28;01melse\u001b[39;00m:\n\u001b[1;32m-> 1736\u001b[0m     \u001b[38;5;28;01mreturn\u001b[39;00m \u001b[38;5;28mself\u001b[39m\u001b[38;5;241m.\u001b[39m_call_impl(\u001b[38;5;241m*\u001b[39margs, \u001b[38;5;241m*\u001b[39m\u001b[38;5;241m*\u001b[39mkwargs)\n",
      "File \u001b[1;32mc:\\Users\\Ye\\miniconda3\\envs\\traffic_predictor_3_9\\lib\\site-packages\\torch\\nn\\modules\\module.py:1747\u001b[0m, in \u001b[0;36mModule._call_impl\u001b[1;34m(self, *args, **kwargs)\u001b[0m\n\u001b[0;32m   1742\u001b[0m \u001b[38;5;66;03m# If we don't have any hooks, we want to skip the rest of the logic in\u001b[39;00m\n\u001b[0;32m   1743\u001b[0m \u001b[38;5;66;03m# this function, and just call forward.\u001b[39;00m\n\u001b[0;32m   1744\u001b[0m \u001b[38;5;28;01mif\u001b[39;00m \u001b[38;5;129;01mnot\u001b[39;00m (\u001b[38;5;28mself\u001b[39m\u001b[38;5;241m.\u001b[39m_backward_hooks \u001b[38;5;129;01mor\u001b[39;00m \u001b[38;5;28mself\u001b[39m\u001b[38;5;241m.\u001b[39m_backward_pre_hooks \u001b[38;5;129;01mor\u001b[39;00m \u001b[38;5;28mself\u001b[39m\u001b[38;5;241m.\u001b[39m_forward_hooks \u001b[38;5;129;01mor\u001b[39;00m \u001b[38;5;28mself\u001b[39m\u001b[38;5;241m.\u001b[39m_forward_pre_hooks\n\u001b[0;32m   1745\u001b[0m         \u001b[38;5;129;01mor\u001b[39;00m _global_backward_pre_hooks \u001b[38;5;129;01mor\u001b[39;00m _global_backward_hooks\n\u001b[0;32m   1746\u001b[0m         \u001b[38;5;129;01mor\u001b[39;00m _global_forward_hooks \u001b[38;5;129;01mor\u001b[39;00m _global_forward_pre_hooks):\n\u001b[1;32m-> 1747\u001b[0m     \u001b[38;5;28;01mreturn\u001b[39;00m forward_call(\u001b[38;5;241m*\u001b[39margs, \u001b[38;5;241m*\u001b[39m\u001b[38;5;241m*\u001b[39mkwargs)\n\u001b[0;32m   1749\u001b[0m result \u001b[38;5;241m=\u001b[39m \u001b[38;5;28;01mNone\u001b[39;00m\n\u001b[0;32m   1750\u001b[0m called_always_called_hooks \u001b[38;5;241m=\u001b[39m \u001b[38;5;28mset\u001b[39m()\n",
      "File \u001b[1;32mc:\\Users\\Ye\\miniconda3\\envs\\traffic_predictor_3_9\\lib\\site-packages\\torch\\nn\\modules\\container.py:250\u001b[0m, in \u001b[0;36mSequential.forward\u001b[1;34m(self, input)\u001b[0m\n\u001b[0;32m    248\u001b[0m \u001b[38;5;28;01mdef\u001b[39;00m \u001b[38;5;21mforward\u001b[39m(\u001b[38;5;28mself\u001b[39m, \u001b[38;5;28minput\u001b[39m):\n\u001b[0;32m    249\u001b[0m     \u001b[38;5;28;01mfor\u001b[39;00m module \u001b[38;5;129;01min\u001b[39;00m \u001b[38;5;28mself\u001b[39m:\n\u001b[1;32m--> 250\u001b[0m         \u001b[38;5;28minput\u001b[39m \u001b[38;5;241m=\u001b[39m \u001b[43mmodule\u001b[49m\u001b[43m(\u001b[49m\u001b[38;5;28;43minput\u001b[39;49m\u001b[43m)\u001b[49m\n\u001b[0;32m    251\u001b[0m     \u001b[38;5;28;01mreturn\u001b[39;00m \u001b[38;5;28minput\u001b[39m\n",
      "File \u001b[1;32mc:\\Users\\Ye\\miniconda3\\envs\\traffic_predictor_3_9\\lib\\site-packages\\torch\\nn\\modules\\module.py:1736\u001b[0m, in \u001b[0;36mModule._wrapped_call_impl\u001b[1;34m(self, *args, **kwargs)\u001b[0m\n\u001b[0;32m   1734\u001b[0m     \u001b[38;5;28;01mreturn\u001b[39;00m \u001b[38;5;28mself\u001b[39m\u001b[38;5;241m.\u001b[39m_compiled_call_impl(\u001b[38;5;241m*\u001b[39margs, \u001b[38;5;241m*\u001b[39m\u001b[38;5;241m*\u001b[39mkwargs)  \u001b[38;5;66;03m# type: ignore[misc]\u001b[39;00m\n\u001b[0;32m   1735\u001b[0m \u001b[38;5;28;01melse\u001b[39;00m:\n\u001b[1;32m-> 1736\u001b[0m     \u001b[38;5;28;01mreturn\u001b[39;00m \u001b[38;5;28mself\u001b[39m\u001b[38;5;241m.\u001b[39m_call_impl(\u001b[38;5;241m*\u001b[39margs, \u001b[38;5;241m*\u001b[39m\u001b[38;5;241m*\u001b[39mkwargs)\n",
      "File \u001b[1;32mc:\\Users\\Ye\\miniconda3\\envs\\traffic_predictor_3_9\\lib\\site-packages\\torch\\nn\\modules\\module.py:1747\u001b[0m, in \u001b[0;36mModule._call_impl\u001b[1;34m(self, *args, **kwargs)\u001b[0m\n\u001b[0;32m   1742\u001b[0m \u001b[38;5;66;03m# If we don't have any hooks, we want to skip the rest of the logic in\u001b[39;00m\n\u001b[0;32m   1743\u001b[0m \u001b[38;5;66;03m# this function, and just call forward.\u001b[39;00m\n\u001b[0;32m   1744\u001b[0m \u001b[38;5;28;01mif\u001b[39;00m \u001b[38;5;129;01mnot\u001b[39;00m (\u001b[38;5;28mself\u001b[39m\u001b[38;5;241m.\u001b[39m_backward_hooks \u001b[38;5;129;01mor\u001b[39;00m \u001b[38;5;28mself\u001b[39m\u001b[38;5;241m.\u001b[39m_backward_pre_hooks \u001b[38;5;129;01mor\u001b[39;00m \u001b[38;5;28mself\u001b[39m\u001b[38;5;241m.\u001b[39m_forward_hooks \u001b[38;5;129;01mor\u001b[39;00m \u001b[38;5;28mself\u001b[39m\u001b[38;5;241m.\u001b[39m_forward_pre_hooks\n\u001b[0;32m   1745\u001b[0m         \u001b[38;5;129;01mor\u001b[39;00m _global_backward_pre_hooks \u001b[38;5;129;01mor\u001b[39;00m _global_backward_hooks\n\u001b[0;32m   1746\u001b[0m         \u001b[38;5;129;01mor\u001b[39;00m _global_forward_hooks \u001b[38;5;129;01mor\u001b[39;00m _global_forward_pre_hooks):\n\u001b[1;32m-> 1747\u001b[0m     \u001b[38;5;28;01mreturn\u001b[39;00m forward_call(\u001b[38;5;241m*\u001b[39margs, \u001b[38;5;241m*\u001b[39m\u001b[38;5;241m*\u001b[39mkwargs)\n\u001b[0;32m   1749\u001b[0m result \u001b[38;5;241m=\u001b[39m \u001b[38;5;28;01mNone\u001b[39;00m\n\u001b[0;32m   1750\u001b[0m called_always_called_hooks \u001b[38;5;241m=\u001b[39m \u001b[38;5;28mset\u001b[39m()\n",
      "File \u001b[1;32mc:\\Users\\Ye\\miniconda3\\envs\\traffic_predictor_3_9\\lib\\site-packages\\torch\\nn\\modules\\activation.py:471\u001b[0m, in \u001b[0;36mMish.forward\u001b[1;34m(self, input)\u001b[0m\n\u001b[0;32m    470\u001b[0m \u001b[38;5;28;01mdef\u001b[39;00m \u001b[38;5;21mforward\u001b[39m(\u001b[38;5;28mself\u001b[39m, \u001b[38;5;28minput\u001b[39m: Tensor) \u001b[38;5;241m-\u001b[39m\u001b[38;5;241m>\u001b[39m Tensor:\n\u001b[1;32m--> 471\u001b[0m     \u001b[38;5;28;01mreturn\u001b[39;00m \u001b[43mF\u001b[49m\u001b[38;5;241;43m.\u001b[39;49m\u001b[43mmish\u001b[49m\u001b[43m(\u001b[49m\u001b[38;5;28;43minput\u001b[39;49m\u001b[43m,\u001b[49m\u001b[43m \u001b[49m\u001b[43minplace\u001b[49m\u001b[38;5;241;43m=\u001b[39;49m\u001b[38;5;28;43mself\u001b[39;49m\u001b[38;5;241;43m.\u001b[39;49m\u001b[43minplace\u001b[49m\u001b[43m)\u001b[49m\n",
      "File \u001b[1;32mc:\\Users\\Ye\\miniconda3\\envs\\traffic_predictor_3_9\\lib\\site-packages\\torch\\nn\\functional.py:2400\u001b[0m, in \u001b[0;36mmish\u001b[1;34m(input, inplace)\u001b[0m\n\u001b[0;32m   2398\u001b[0m \u001b[38;5;28;01mif\u001b[39;00m inplace:\n\u001b[0;32m   2399\u001b[0m     \u001b[38;5;28;01mreturn\u001b[39;00m torch\u001b[38;5;241m.\u001b[39m_C\u001b[38;5;241m.\u001b[39m_nn\u001b[38;5;241m.\u001b[39mmish_(\u001b[38;5;28minput\u001b[39m)\n\u001b[1;32m-> 2400\u001b[0m \u001b[38;5;28;01mreturn\u001b[39;00m \u001b[43mtorch\u001b[49m\u001b[38;5;241;43m.\u001b[39;49m\u001b[43m_C\u001b[49m\u001b[38;5;241;43m.\u001b[39;49m\u001b[43m_nn\u001b[49m\u001b[38;5;241;43m.\u001b[39;49m\u001b[43mmish\u001b[49m\u001b[43m(\u001b[49m\u001b[38;5;28;43minput\u001b[39;49m\u001b[43m)\u001b[49m\n",
      "\u001b[1;31mKeyboardInterrupt\u001b[0m: "
     ]
    }
   ],
   "source": [
    "\n",
    "N_iter = 5000 \n",
    "r_mdp, metrics = evaluate_deterministic_policy(policyDeter, R, P, sRecord=None, N_s=N_s, N_iter=N_iter)\n",
    "print(f\"Avg Reward MDP: {r_mdp}\")\n",
    "\n",
    "rb = ReplayBuffer(capacity=N_iter)\n",
    "rb.addOffline(\n",
    "    metrics['s_record'], metrics['a_record'], metrics['r_record'], metrics['s_next_record']\n",
    ")\n",
    "\n",
    "diffusionQ = Diffusion_QL( \n",
    "    state_dim=1,\n",
    "    action_dim=1,\n",
    "    max_action=1,\n",
    "    eta=1.0,\n",
    "    device='cuda',\n",
    "    discount=0.99,\n",
    "    n_timesteps=200,\n",
    "    lr=1e-4,\n",
    "    lr_decay=True,\n",
    "    tau=0.005,\n",
    "    update_ema_every=5,\n",
    "    step_start_ema=100,\n",
    "    max_q_backup=False)\n",
    "\n",
    "epochs = 1000\n",
    "batch_size = 100\n",
    "sample_method = \"greedy\"\n",
    "\n",
    "metric = {'L_actor': [], 'L_critic': []}\n",
    "mean_metric = lambda x: sum(x) / len(x) if len(x) > 0 else float('nan')\n",
    "\n",
    "with tqdm(range(1, epochs + 1), desc=f'Epoch', unit='epoch', leave=False) as epoch_bar:\n",
    "    for ep in epoch_bar:\n",
    "        samples = rb.sample(batch_size)\n",
    "        batch = (\n",
    "            torch.as_tensor(samples[0], dtype=torch.float32).to(diffusionQ.device), \n",
    "            torch.as_tensor(samples[1], dtype=torch.float32).to(diffusionQ.device), \n",
    "            torch.as_tensor(samples[2], dtype=torch.float32).to(diffusionQ.device), \n",
    "            torch.as_tensor(samples[3], dtype=torch.float32).to(diffusionQ.device)\n",
    "        )\n",
    "        L_actor, L_critic = diffusionQ.update(batch)\n",
    "        metric['L_actor'].append(L_actor)\n",
    "        metric['L_critic'].append(L_critic)\n",
    "        epoch_bar.set_postfix({'L_actor': f'{L_actor:.6f}', 'L_critic': f'{L_critic:.6f}'})\n",
    "        if ep % (epochs/10) == 0:        \n",
    "            policy_DQ = extract_deterministic_policy(diffusionQ, N_s, N_a)\n",
    "            r_DQ, _ = evaluate_diffusionQ(diffusionQ, R, P, N_iter=100, N_s=N_s, N_a=N_a, sample_method=sample_method)\n",
    "            print(f\"Epoch {ep}/{epochs}\" + \n",
    "                f\" L_actor: {mean_metric(metric['L_actor'][-int(epochs/10):]):.6f}, \" + \n",
    "                f\" L_critic: {mean_metric(metric['L_critic'][-int(epochs/10):]):.6f}, \" + \n",
    "                f\" r_DQ: {r_DQ}, {policyDeter} => {policy_DQ}\")\n",
    "\n",
    "#model_state = diffusionQ.state_dict()\n",
    "#torch.save(model_state, \"model_state.pth\")"
   ]
  }
 ],
 "metadata": {
  "kernelspec": {
   "display_name": "traffic_predictor_3_9",
   "language": "python",
   "name": "python3"
  },
  "language_info": {
   "codemirror_mode": {
    "name": "ipython",
    "version": 3
   },
   "file_extension": ".py",
   "mimetype": "text/x-python",
   "name": "python",
   "nbconvert_exporter": "python",
   "pygments_lexer": "ipython3",
   "version": "3.9.20"
  }
 },
 "nbformat": 4,
 "nbformat_minor": 5
}
