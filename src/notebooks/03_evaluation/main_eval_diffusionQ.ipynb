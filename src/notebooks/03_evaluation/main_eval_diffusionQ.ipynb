{
 "cells": [
  {
   "cell_type": "code",
   "execution_count": 1,
   "metadata": {},
   "outputs": [],
   "source": [
    "import os\n",
    "os.environ[\"KMP_DUPLICATE_LIB_OK\"]=\"TRUE\"\n",
    "\n",
    "import numpy as np\n",
    "import matplotlib.pyplot as plt\n",
    "import pickle\n",
    "import torch\n",
    "\n",
    "from Configs import getEnvConfig, visualizeEnvConfig\n",
    "from Configs import getDatasetConfig, visualizeDatasetConfig\n",
    "from Environment.EnvironmentSim import createEnv\n",
    "from Helpers.EnvInterface import EnvInterface\n",
    "from Helpers.Eval import eval"
   ]
  },
  {
   "cell_type": "code",
   "execution_count": 2,
   "metadata": {},
   "outputs": [
    {
     "name": "stdout",
     "output_type": "stream",
     "text": [
      "==================================================\n",
      "Environment Configuration\n",
      "==================================================\n",
      "Number of Users:        20\n",
      "Window Length:          200\n",
      "Dataflow:               thumb_bk\n",
      "Sigmoid K List:         [0.1, 0.2, 0.3, 0.4, 0.5]\n",
      "Sigmoid S List:         [10.0, 10.0, 10.0, 10.0, 10.0]\n",
      "Resource Bar:           5\n",
      "Bandwidth:              200\n",
      "Sub Agents:             [[1, 1, 1, 1, 1]]\n",
      "User Map:               [[0, 1, 2, 3], [4, 5, 6, 7], [8, 9, 10, 11], [12, 13, 14, 15], [16, 17, 18, 19]]\n",
      "==================================================\n",
      "==================================================\n",
      "Dataset Configuration\n",
      "==================================================\n",
      "Number of Users:        20\n",
      "Window Length:          200\n",
      "N_aggregation:          4\n",
      "Dataflow:               thumb_bk\n",
      "Random Seed:            999\n",
      "Resource Bar:           5\n",
      "Bandwidth:              200\n",
      "Sigmoid K List:         [0.1, 0.2, 0.3, 0.4, 0.5]\n",
      "Sigmoid S List:         [10.0, 10.0, 10.0, 10.0, 10.0, 10.0]\n",
      "Sub Agents:             [[1, 1, 1, 1, 1]]\n",
      "User Map:               [[0, 1, 2, 3], [4, 5, 6, 7], [8, 9, 10, 11], [12, 13, 14, 15], [16, 17, 18, 19]]\n",
      "==================================================\n"
     ]
    }
   ],
   "source": [
    "configIdx = 3\n",
    "envParams = getEnvConfig(configIdx)\n",
    "visualizeEnvConfig(envParams)\n",
    "trafficDataParentPath = f'Datasets/TrafficDataset/TrafficData'\n",
    "env = createEnv(envParams, trafficDataParentPath)\n",
    "env.selectMode(mode=\"test\", type=\"data\")\n",
    "\n",
    "datasetConfigIdx = 7\n",
    "datasetParams = getDatasetConfig(datasetConfigIdx)\n",
    "visualizeDatasetConfig(datasetParams)\n",
    "with open(f'Datasets/OfflineDataset/subOptimalAgent_encConfig{datasetConfigIdx}_{envParams[\"sub_agents_idx\"]}.pkl', 'rb') as f:\n",
    "    dataset_expert = pickle.load(f)"
   ]
  },
  {
   "cell_type": "code",
   "execution_count": 3,
   "metadata": {},
   "outputs": [
    {
     "name": "stdout",
     "output_type": "stream",
     "text": [
      "state_dim: 20, action_dim: 20\n"
     ]
    },
    {
     "name": "stderr",
     "output_type": "stream",
     "text": [
      "c:\\Users\\Ye\\Documents\\YuYeh_Documents\\L2S\\Projects\\diffusion_resource_schduling_intra_slice\\DiffusionQL\\DQL_Q_esmb.py:208: FutureWarning: You are using `torch.load` with `weights_only=False` (the current default value), which uses the default pickle module implicitly. It is possible to construct malicious pickle data which will execute arbitrary code during unpickling (See https://github.com/pytorch/pytorch/blob/main/SECURITY.md#untrusted-models for more details). In a future release, the default value for `weights_only` will be flipped to `True`. This limits the functions that could be executed during unpickling. Arbitrary objects will no longer be allowed to be loaded via this mode unless they are explicitly allowlisted by the user via `torch.serialization.add_safe_globals`. We recommend you start setting `weights_only=True` for any use case where you don't have full control of the loaded file. Please open an issue on GitHub for any issues related to this experimental feature.\n",
      "  self.actor.load_state_dict(torch.load(f'{dir}/actor_{id}.pth'))\n",
      "c:\\Users\\Ye\\Documents\\YuYeh_Documents\\L2S\\Projects\\diffusion_resource_schduling_intra_slice\\DiffusionQL\\DQL_Q_esmb.py:209: FutureWarning: You are using `torch.load` with `weights_only=False` (the current default value), which uses the default pickle module implicitly. It is possible to construct malicious pickle data which will execute arbitrary code during unpickling (See https://github.com/pytorch/pytorch/blob/main/SECURITY.md#untrusted-models for more details). In a future release, the default value for `weights_only` will be flipped to `True`. This limits the functions that could be executed during unpickling. Arbitrary objects will no longer be allowed to be loaded via this mode unless they are explicitly allowlisted by the user via `torch.serialization.add_safe_globals`. We recommend you start setting `weights_only=True` for any use case where you don't have full control of the loaded file. Please open an issue on GitHub for any issues related to this experimental feature.\n",
      "  self.critic.load_state_dict(torch.load(f'{dir}/critic_{id}.pth'))\n",
      "                                                                     "
     ]
    },
    {
     "name": "stdout",
     "output_type": "stream",
     "text": [
      "reward_diffusionQ0: 0.46926666909253867\n",
      "best_model_idx: 0\n"
     ]
    },
    {
     "name": "stderr",
     "output_type": "stream",
     "text": [
      "\r"
     ]
    }
   ],
   "source": [
    "envInterface = EnvInterface(\n",
    "        envParams, discrete_state=False\n",
    "    )\n",
    "from DiffusionQL.DQL_Q_esmb import DQL_Q_esmb as Agent\n",
    "print(f\"state_dim: {envInterface.state_dim}, action_dim: {envInterface.action_dim}\")\n",
    "\n",
    "best_reward = np.inf\n",
    "best_model_idx = None\n",
    "for model_idx in [0]:\n",
    "    with open(f\"Models/config_{configIdx}/hyperparams_{model_idx}.pkl\", \"rb\") as f:\n",
    "        hyperparams = pickle.load(f)\n",
    "    agent = Agent(\n",
    "        state_dim=envInterface.state_dim, \n",
    "        action_dim=envInterface.action_dim, \n",
    "        **hyperparams\n",
    "    )\n",
    "    agent.load_model(f\"Models/config_{configIdx}\", f'{model_idx}_best')\n",
    "    env.reset()\n",
    "    env.selectMode(mode=\"test\", type=\"data\")\n",
    "    reward, metrics = eval(\n",
    "        agent, env, envInterface, \n",
    "        LEN_eval=250, obvMode=\"predicted\", sample_method=\"greedy\", \n",
    "        N_action_candidates=50, eta=0.1, verbose=True) \n",
    "    print(f\"reward_diffusionQ{model_idx}: {reward}\")\n",
    "    if reward < best_reward:\n",
    "        best_reward = np.mean(reward)\n",
    "        best_model_idx = model_idx\n",
    "\n",
    "print(f\"best_model_idx: {best_model_idx}\")"
   ]
  },
  {
   "cell_type": "code",
   "execution_count": 4,
   "metadata": {},
   "outputs": [
    {
     "name": "stderr",
     "output_type": "stream",
     "text": [
      "100%|██████████| 20/20 [01:18<00:00,  3.91s/it]\n"
     ]
    }
   ],
   "source": [
    "env.selectMode(mode=\"test\", type=\"data\")\n",
    "rewards_expert = dataset_expert['rewardRecord']\n",
    "\n",
    "agent.load_model(f\"Models/config_{configIdx}\", f'{best_model_idx}_best')\n",
    "LEN_eval = 50\n",
    "reward_expert_list = []\n",
    "reward_policy_list = []\n",
    "reward_policy_list_2 = []\n",
    "\n",
    "from tqdm import tqdm\n",
    "for _ in tqdm(range(20)):\n",
    "    env.reset()\n",
    "    env.selectMode(mode=\"test\", type=\"data\")\n",
    "    reward_expert_sample = np.random.choice(rewards_expert, size=LEN_eval, replace=False)\n",
    "    reward_policy, _ = eval(agent, env, envInterface, LEN_eval=LEN_eval, obvMode=\"predicted\", \n",
    "                            sample_method=\"greedy\", N_action_candidates=50, eta=0.01, verbose=True) \n",
    "    reward_policy_2, _ = eval(agent, env, envInterface, LEN_eval=LEN_eval, obvMode=\"predicted\", \n",
    "                            sample_method=\"greedy\", N_action_candidates=50, eta=1.0, verbose=True) \n",
    "    reward_expert_list.append(np.mean(reward_expert_sample))\n",
    "    reward_policy_list.append(reward_policy)\n",
    "    reward_policy_list_2.append(reward_policy_2)\n",
    "\n",
    "reward_expert_list = np.array(reward_expert_list)\n",
    "reward_policy_list = np.array(reward_policy_list)\n",
    "reward_policy_list_2 = np.array(reward_policy_list_2)\n"
   ]
  },
  {
   "cell_type": "code",
   "execution_count": 5,
   "metadata": {},
   "outputs": [
    {
     "name": "stdout",
     "output_type": "stream",
     "text": [
      "Expert Reward: 0.466450 ± 0.004510\n",
      "Policy Reward: 0.469065 ± 0.003221\n",
      "Policy Reward: 0.477703 ± 0.003002\n"
     ]
    }
   ],
   "source": [
    "import scipy.stats as stats\n",
    "\n",
    "def mean_confidence_interval(data, confidence=0.95):\n",
    "    data = np.array(data)\n",
    "    n = data.size\n",
    "    m = np.mean(data)\n",
    "    se = stats.sem(data, axis=None)\n",
    "    h = se * stats.t.ppf((1 + confidence) / 2., n-1)\n",
    "    return m, h\n",
    "\n",
    "mean_exp, bound_exp = mean_confidence_interval(reward_expert_list)\n",
    "mean_pol, bound_pol = mean_confidence_interval(reward_policy_list)\n",
    "mean_pol_2, bound_pol_2 = mean_confidence_interval(reward_policy_list_2)\n",
    "\n",
    "print(f\"Expert Reward: {mean_exp:.6f} ± {bound_exp:.6f}\")\n",
    "print(f\"Policy Reward: {mean_pol:.6f} ± {bound_pol:.6f}\")\n",
    "print(f\"Policy Reward: {mean_pol_2:.6f} ± {bound_pol_2:.6f}\")"
   ]
  }
 ],
 "metadata": {
  "kernelspec": {
   "display_name": "traffic_predictor_3_9",
   "language": "python",
   "name": "python3"
  },
  "language_info": {
   "codemirror_mode": {
    "name": "ipython",
    "version": 3
   },
   "file_extension": ".py",
   "mimetype": "text/x-python",
   "name": "python",
   "nbconvert_exporter": "python",
   "pygments_lexer": "ipython3",
   "version": "3.9.20"
  }
 },
 "nbformat": 4,
 "nbformat_minor": 2
}
