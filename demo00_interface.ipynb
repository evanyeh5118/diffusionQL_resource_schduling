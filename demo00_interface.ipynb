{
 "cells": [
  {
   "cell_type": "code",
   "execution_count": 1,
   "metadata": {},
   "outputs": [],
   "source": [
    "import os\n",
    "os.environ[\"KMP_DUPLICATE_LIB_OK\"]=\"TRUE\"\n",
    "\n",
    "import numpy as np\n",
    "import matplotlib.pyplot as plt\n",
    "import pickle\n",
    "import torch\n",
    "\n",
    "from Configs import getEnvConfig, visualizeEnvConfig\n",
    "from Helpers.DataSampler import ReplayBuffer, ReplayBufferHybrid\n",
    "from Helpers.Visualization import MultiLivePlot\n",
    "from Environment.EnvironmentSim import createEnv\n",
    "from Helpers.EnvInterface import EnvInterface\n",
    "from Helpers.Eval import eval"
   ]
  },
  {
   "cell_type": "code",
   "execution_count": 2,
   "metadata": {},
   "outputs": [
    {
     "name": "stdout",
     "output_type": "stream",
     "text": [
      "==================================================\n",
      "Environment Configuration\n",
      "==================================================\n",
      "Number of Users:        8\n",
      "Window Length:          200\n",
      "Dataflow:               thumb_fr\n",
      "Sigmoid K List:         [0.1, 0.2, 0.3, 0.4, 0.5]\n",
      "Sigmoid S List:         [10.0, 10.0, 10.0, 10.0, 10.0]\n",
      "Resource Bar:           5\n",
      "Bandwidth:              50\n",
      "Sub Agents:             [[0, 0]]\n",
      "User Map:               [[0, 1, 2, 3], [4, 5, 6, 7]]\n",
      "==================================================\n"
     ]
    }
   ],
   "source": [
    "configIdx = 0\n",
    "envParams = getEnvConfig(configIdx)\n",
    "visualizeEnvConfig(envParams)\n",
    "trafficDataParentPath = f'Datasets/TrafficDataset/TrafficData'\n",
    "env = createEnv(envParams, trafficDataParentPath)\n",
    "env.selectMode(mode=\"train\", type=\"data\")"
   ]
  },
  {
   "cell_type": "code",
   "execution_count": 3,
   "metadata": {},
   "outputs": [
    {
     "name": "stdout",
     "output_type": "stream",
     "text": [
      "Avg. packet loss rate: 0.2857042178658874\n",
      "length of dataset: 10000\n"
     ]
    }
   ],
   "source": [
    "with open(f'Datasets/OfflineDataset/subOptimalAgent_encConfig{configIdx}_{envParams[\"sub_agents_idx\"]}.pkl', 'rb') as f:\n",
    "    dataset_expert = pickle.load(f)\n",
    "with open(f'Datasets/OfflineDataset/random_policy_8_users.pkl', 'rb') as f:\n",
    "    dataset_random = pickle.load(f)\n",
    "\n",
    "dataset_off = {\n",
    "    'observations': dataset_expert['uRecord'],     \n",
    "    'actions': dataset_expert['actionsRecord'], \n",
    "    'rewards': dataset_expert['rewardRecord'], \n",
    "    'next_observations': dataset_expert['uNextRecord']\n",
    "}\n",
    "print(f\"Avg. packet loss rate: {np.mean(dataset_expert['rewardRecord'])}\")\n",
    "print(f\"length of dataset: {len(dataset_off['observations'])}\")"
   ]
  },
  {
   "cell_type": "code",
   "execution_count": 4,
   "metadata": {},
   "outputs": [],
   "source": [
    "hyperparams = {\n",
    "    'N_diffusion_steps':30,\n",
    "    'schedule_type': \"vp\",\n",
    "    'abs_action_max': 1.0,\n",
    "    'gamma': 0.99,\n",
    "    'lr': 5e-3,\n",
    "    'decay_lr': True,\n",
    "    'weight_decay': 0.0,\n",
    "    'num_critics': 12,\n",
    "    'lcb_coef': 0.15,\n",
    "    'q_sample_eta': 1.0,\n",
    "    'weight_entropy_loss': 0.01,\n",
    "    'weight_q_loss': 1.0,\n",
    "    'approximate_action': True,\n",
    "    'ema_tau': 0.001,\n",
    "    'ema_period': 20,\n",
    "    'ema_begin_update': 1000,\n",
    "    'layer_norm': True,\n",
    "    'grad_clip': 3.0,\n",
    "    'device': 'cuda',\n",
    "}"
   ]
  },
  {
   "cell_type": "code",
   "execution_count": 26,
   "metadata": {},
   "outputs": [
    {
     "name": "stdout",
     "output_type": "stream",
     "text": [
      "[[15.22609634  1.63529003 45.7072439  18.2314975  44.48540138  1.23220172\n",
      "  46.94356305 43.69457049]]\n",
      "[[-0.39095615 -0.9345884   0.82828976 -0.2707401   0.77941606 -0.95071193\n",
      "   0.87774252  0.74778282]]\n",
      "[[15.22609634  1.63529003 45.7072439  18.2314975  44.48540138  1.23220172\n",
      "  46.94356305 43.69457049]]\n",
      "[[135.8310905   65.99705895 188.64967946  54.80144247 186.22326775\n",
      "  158.22291623  81.73272067  77.76618722]]\n",
      "[[ 0.3583109  -0.34002941  0.88649679 -0.45198558  0.86223268  0.58222916\n",
      "  -0.18267279 -0.22233813]]\n"
     ]
    }
   ],
   "source": [
    "envInterface = EnvInterface(\n",
    "    envParams, discrete_state=False,\n",
    "    n_bits_state=2, base_state=200,\n",
    "    n_bits_action=2, base_action=200,\n",
    ")\n",
    "\n",
    "r = np.random.uniform(0, envParams['B'], size=(1, 8))\n",
    "a = envInterface.preprocess_action(r)\n",
    "r_ = envInterface.postprocess_action(a)\n",
    "print(r)\n",
    "print(a)\n",
    "print(r_)\n",
    "\n",
    "u = np.random.uniform(0, envParams['LEN_window'], size=(1, 8))\n",
    "u_ = envInterface.preprocess_state(u)\n",
    "print(u)\n",
    "print(u_)\n"
   ]
  }
 ],
 "metadata": {
  "kernelspec": {
   "display_name": "traffic_predictor_3_9",
   "language": "python",
   "name": "python3"
  },
  "language_info": {
   "codemirror_mode": {
    "name": "ipython",
    "version": 3
   },
   "file_extension": ".py",
   "mimetype": "text/x-python",
   "name": "python",
   "nbconvert_exporter": "python",
   "pygments_lexer": "ipython3",
   "version": "3.9.20"
  }
 },
 "nbformat": 4,
 "nbformat_minor": 2
}
