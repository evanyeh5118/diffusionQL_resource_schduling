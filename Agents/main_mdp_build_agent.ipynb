{
 "cells": [
  {
   "cell_type": "code",
   "execution_count": 1,
   "metadata": {},
   "outputs": [],
   "source": [
    "import os\n",
    "os.environ[\"KMP_DUPLICATE_LIB_OK\"]=\"TRUE\"\n",
    "\n",
    "import numpy as np\n",
    "import pandas as pd\n",
    "import matplotlib.pyplot as plt\n",
    "import pickle\n",
    "\n",
    "import sys\n",
    "sys.path.append('..')\n",
    "\n",
    "from Agents.ModelBasedSolvers import MdpFormulator\n",
    "from Environment.EnvironmentSim import createEnv\n",
    "from Configs import getSubAgentConfig, visualizeSubAgentConfig"
   ]
  },
  {
   "cell_type": "code",
   "execution_count": 2,
   "metadata": {},
   "outputs": [
    {
     "name": "stdout",
     "output_type": "stream",
     "text": [
      "==================================================\n",
      "Environment Configuration\n",
      "==================================================\n",
      "Number of Users:        4\n",
      "Window Length:          200\n",
      "Dataflow:               thumb_bk\n",
      "N_aggregation:          4\n",
      "N_r:                    5\n",
      "Resource Bar:           5\n",
      "Bandwidth:              60\n",
      "Sigmoid K List:         [0.3]\n",
      "Sigmoid S List:         [10.0]\n",
      "Random Seed:            999\n",
      "==================================================\n"
     ]
    }
   ],
   "source": [
    "configIdx = 1\n",
    "subAgentParams = getSubAgentConfig(configIdx)\n",
    "visualizeSubAgentConfig(subAgentParams)\n",
    "trafficDataParentPath = f'../Datasets/TrafficDataset/TrafficData'\n",
    "env = createEnv(subAgentParams, trafficDataParentPath)\n",
    "env.selectMode(mode=\"train\", type=\"data\")\n",
    "\n",
    "mdpFormulator = MdpFormulator(subAgentParams, env.trafficGenerator.getM(mode=\"train\"))\n",
    "mdpFormulator.aggregateModel(approximate=True)\n"
   ]
  },
  {
   "cell_type": "code",
   "execution_count": 3,
   "metadata": {},
   "outputs": [
    {
     "data": {
      "image/png": "[encoded data removed]",
      "text/plain": [
       "<Figure size 640x480 with 1 Axes>"
      ]
     },
     "metadata": {},
     "output_type": "display_data"
    }
   ],
   "source": [
    "cdf = env.simulatorType1.wirelessModel.packetTransmissionCDF_list[0]\n",
    "r_list = env.simulatorType1.wirelessModel.r_list\n",
    "plt.plot(r_list, cdf)\n",
    "plt.show()\n"
   ]
  },
  {
   "cell_type": "code",
   "execution_count": 5,
   "metadata": {},
   "outputs": [
    {
     "name": "stdout",
     "output_type": "stream",
     "text": [
      "==================================================\n",
      "Environment Configuration\n",
      "==================================================\n",
      "Number of Users:        4\n",
      "Window Length:          200\n",
      "Dataflow:               thumb_bk\n",
      "N_aggregation:          4\n",
      "N_r:                    5\n",
      "Resource Bar:           5\n",
      "Bandwidth:              60\n",
      "Sigmoid K List:         [0.3]\n",
      "Sigmoid S List:         [10.0]\n",
      "Random Seed:            999\n",
      "==================================================\n",
      "(256, 625)\n",
      "(256, 256, 625)\n"
     ]
    },
    {
     "name": "stderr",
     "output_type": "stream",
     "text": [
      "Value Iteration:  64%|██████▎   | 637/1000 [03:22<01:55,  3.14it/s, V=16.890260]\n"
     ]
    }
   ],
   "source": [
    "for configIdx in [1]:\n",
    "    subAgentParams = getSubAgentConfig(configIdx)\n",
    "    visualizeSubAgentConfig(subAgentParams)\n",
    "    trafficDataParentPath = f'../Datasets/TrafficDataset/TrafficData'\n",
    "    env = createEnv(subAgentParams, trafficDataParentPath)\n",
    "    env.selectMode(mode=\"train\", type=\"data\")\n",
    "\n",
    "    mdpFormulator = MdpFormulator(subAgentParams, env.trafficGenerator.getM(mode=\"train\"))\n",
    "    mdpFormulator.aggregateModel(approximate=True)\n",
    "\n",
    "    mdpKernel, mdpKernelParams = mdpFormulator.getMdpKernel()\n",
    "    print(mdpKernel.rewardTable.shape)\n",
    "    print(mdpKernel.transitionTable.shape)\n",
    "    (V_deter, policy_deter) = mdpKernel.optimize_policy(mode=\"deterministic\", max_iterations=1000)\n",
    "    #(V_stoch, policy_stoch) = mdpKernel.optimize_policy(mode=\"stochastic\", lr=10, max_iterations=80)\n",
    "    mdpKernelParams['V_deter'] = V_deter\n",
    "    mdpKernelParams['policy_deter'] = policy_deter  \n",
    "    #mdpKernelParams['V_stoch'] = V_stoch\n",
    "    #mdpKernelParams['policy_stoch'] = policy_stoch\n",
    "    mdpKernelParams['V_stoch'] = None\n",
    "    mdpKernelParams['policy_stoch'] = None\n",
    "\n",
    "\n",
    "    with open(f'Agents/MdpPolicy/mdp_config{configIdx}.pkl', 'wb') as f:\n",
    "        pickle.dump(mdpKernelParams, f)\n",
    "\n",
    "    '''\n",
    "    print(mdpFormulator.N_states)\n",
    "    print(mdpFormulator.N_actions)\n",
    "    print(mdpFormulator.N_states_original**mdpFormulator.N_user)\n",
    "    print(mdpFormulator.N_states_original**mdpFormulator.N_user*mdpFormulator.N_actions)\n",
    "    print(np.sum(mdpFormulator.M_aggregation, axis=1))\n",
    "    print(mdpFormulator.M_aggregation.shape)\n",
    "    '''"
   ]
  }
 ],
 "metadata": {
  "kernelspec": {
   "display_name": "traffic_predictor_3_9",
   "language": "python",
   "name": "python3"
  },
  "language_info": {
   "codemirror_mode": {
    "name": "ipython",
    "version": 3
   },
   "file_extension": ".py",
   "mimetype": "text/x-python",
   "name": "python",
   "nbconvert_exporter": "python",
   "pygments_lexer": "ipython3",
   "version": "3.9.20"
  }
 },
 "nbformat": 4,
 "nbformat_minor": 2
}
