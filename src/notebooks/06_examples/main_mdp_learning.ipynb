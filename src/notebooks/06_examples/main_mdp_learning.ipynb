{
 "cells": [
  {
   "cell_type": "code",
   "execution_count": 1,
   "id": "cb1e729a",
   "metadata": {},
   "outputs": [],
   "source": [
    "import os\n",
    "os.environ[\"KMP_DUPLICATE_LIB_OK\"]=\"TRUE\"\n",
    "\n",
    "import numpy as np\n",
    "import matplotlib.pyplot as plt\n",
    "\n",
    "import torch\n",
    "from torch.utils.data import DataLoader, TensorDataset\n",
    "from tqdm import tqdm\n",
    "\n",
    "import sys\n",
    "sys.path.append(\"..\")\n",
    "\n",
    "from Helpers.DataSampler import ReplayBuffer\n",
    "from toy_mdp_helper import generate_dataset, evaluate_diffusionQ, extract_deterministic_policy, visualize_policy_heatmap"
   ]
  },
  {
   "cell_type": "code",
   "execution_count": 2,
   "id": "385dd7fe",
   "metadata": {},
   "outputs": [
    {
     "name": "stderr",
     "output_type": "stream",
     "text": [
      "Value Iteration: 100%|██████████| 1000/1000 [00:00<00:00, 1398.73it/s, V=-87.638921]\n",
      "                                                                                       "
     ]
    },
    {
     "name": "stdout",
     "output_type": "stream",
     "text": [
      "5000\n",
      "[[0.36529473 0.33038681 0.10620039 0.60942595 0.46317416 0.87519138\n",
      "  0.859934   0.43951974 0.07658387 0.55867161]\n",
      " [0.47649886 0.5518546  0.09345876 0.47372247 0.46726509 0.22616964\n",
      "  0.13531992 0.58661913 0.36148545 0.66451086]\n",
      " [0.14260466 0.66248199 0.71877577 0.12349261 0.65023966 0.07525486\n",
      "  0.90119159 0.89878138 0.99937701 0.40205146]\n",
      " [0.68262961 0.18915149 0.53016662 0.73463697 0.1689499  0.48889537\n",
      "  0.02553294 0.5763825  0.56285711 0.6558536 ]\n",
      " [0.37928779 0.02233942 0.75530224 0.46754421 0.4790499  0.23888401\n",
      "  0.16763018 0.97943109 0.19422053 0.65710252]\n",
      " [0.0599216  0.5351665  0.20710911 0.20271593 0.24860664 0.96076272\n",
      "  0.63269673 0.27869998 0.1939712  0.13538802]\n",
      " [0.36840029 0.77901263 0.94862485 0.62836922 0.54056518 0.89171565\n",
      "  0.03780786 0.30227285 0.51608898 0.55511329]\n",
      " [0.33173178 0.45225676 0.03474664 0.23290379 0.70865918 0.79848486\n",
      "  0.00554318 0.4580984  0.7172753  0.20760413]\n",
      " [0.94590482 0.12740326 0.21954574 0.07881047 0.03874216 0.36118237\n",
      "  0.79438637 0.24242075 0.94676998 0.41258229]\n",
      " [0.37658094 0.17924487 0.9310424  0.54714603 0.07480118 0.77792296\n",
      "  0.72944168 0.24829301 0.12918559 0.03297431]]\n",
      "[5 9 8 3 7 5 2 5 8 2]\n"
     ]
    },
    {
     "name": "stderr",
     "output_type": "stream",
     "text": [
      "\r"
     ]
    }
   ],
   "source": [
    "hyperparams = {\n",
    "    'N_diffusion_steps':30,\n",
    "    'schedule_type': \"vp\",\n",
    "    'abs_action_max': 1.0,\n",
    "    'gamma': 0.99,\n",
    "    'lr': 5e-3,\n",
    "    'decay_lr': False,\n",
    "    'weight_decay': 0.001,\n",
    "    'num_critics': 2,\n",
    "    'lcb_coef': 0.0,\n",
    "    'q_sample_eta': 1.0,\n",
    "    'weight_entropy_loss': 0.0,\n",
    "    'weight_q_loss': 1.0,\n",
    "    'approximate_action': True,\n",
    "    'ema_tau': 0.005,\n",
    "    'ema_period': 20,\n",
    "    'ema_begin_update': 1000,\n",
    "    'layer_norm': False,\n",
    "    'device': 'cuda',\n",
    "}\n",
    "\n",
    "\n",
    "N_s = 10\n",
    "N_a = 10\n",
    "LEN_dataset = 5000\n",
    "\n",
    "rb_capacity = LEN_dataset\n",
    "dataset, policy_mdp, P, R = generate_dataset(LEN_dataset, N_s, N_a, seed=995)\n",
    "\n",
    "data_sampler = ReplayBuffer(capacity=rb_capacity, device=hyperparams['device'])\n",
    "data_sampler.add(dataset)\n",
    "print(len(data_sampler))\n",
    "\n",
    "print(R)\n",
    "print(policy_mdp)\n"
   ]
  },
  {
   "cell_type": "code",
   "execution_count": 3,
   "id": "025157b5",
   "metadata": {},
   "outputs": [
    {
     "name": "stdout",
     "output_type": "stream",
     "text": [
      "Expert's Reward:0.874268878606705\n"
     ]
    },
    {
     "name": "stderr",
     "output_type": "stream",
     "text": [
      "                                                                               \r"
     ]
    },
    {
     "name": "stdout",
     "output_type": "stream",
     "text": [
      "New best reward: 0.3949498468456785\n",
      "Iteration 0, Ld: 0.6750820036232471, Lq: 0.8545516882650555, Le: 1.4549638640880584, loss_Q: 0.060741719687357545\n",
      "Policy: [5 9 8 3 7 5 2 5 8 2]->[5, 4, 4, 4, 4, 4, 4, 4, 4, 3]\n",
      "Reward: 0.3949498468456785\n"
     ]
    },
    {
     "name": "stderr",
     "output_type": "stream",
     "text": [
      "                                                                               \r"
     ]
    },
    {
     "name": "stdout",
     "output_type": "stream",
     "text": [
      "New best reward: 0.4221803781422442\n"
     ]
    },
    {
     "name": "stderr",
     "output_type": "stream",
     "text": [
      "                                                                               \r"
     ]
    },
    {
     "name": "stdout",
     "output_type": "stream",
     "text": [
      "New best reward: 0.42844460063898454\n"
     ]
    },
    {
     "name": "stderr",
     "output_type": "stream",
     "text": [
      "                                                                               \r"
     ]
    },
    {
     "name": "stdout",
     "output_type": "stream",
     "text": [
      "New best reward: 0.485921738185881\n"
     ]
    },
    {
     "name": "stderr",
     "output_type": "stream",
     "text": [
      "                                                                               \r"
     ]
    },
    {
     "name": "stdout",
     "output_type": "stream",
     "text": [
      "New best reward: 0.5557990907073311\n",
      "Iteration 5, Ld: 0.47412550553679467, Lq: 0.8936964765191078, Le: 1.4211336731910706, loss_Q: 0.023756588995456695\n",
      "Policy: [5 9 8 3 7 5 2 5 8 2]->[5, 4, 4, 6, 6, 5, 4, 4, 4, 2]\n",
      "Reward: 0.5557990907073311\n"
     ]
    },
    {
     "name": "stderr",
     "output_type": "stream",
     "text": [
      "                                                                               \r"
     ]
    },
    {
     "name": "stdout",
     "output_type": "stream",
     "text": [
      "New best reward: 0.5831308496917389\n"
     ]
    },
    {
     "name": "stderr",
     "output_type": "stream",
     "text": [
      "                                                                               \r"
     ]
    },
    {
     "name": "stdout",
     "output_type": "stream",
     "text": [
      "New best reward: 0.696719099917758\n"
     ]
    },
    {
     "name": "stderr",
     "output_type": "stream",
     "text": [
      "                                                                               \r"
     ]
    },
    {
     "name": "stdout",
     "output_type": "stream",
     "text": [
      "Iteration 10, Ld: 0.1547674941085279, Lq: 1.1234308713674546, Le: 1.3463394346833228, loss_Q: 0.023429008536040782\n",
      "Policy: [5 9 8 3 7 5 2 5 8 2]->[5, 8, 7, 3, 6, 4, 2, 4, 6, 2]\n",
      "Reward: 0.6254732530590822\n"
     ]
    },
    {
     "name": "stderr",
     "output_type": "stream",
     "text": [
      "                                                                               \r"
     ]
    },
    {
     "name": "stdout",
     "output_type": "stream",
     "text": [
      "New best reward: 0.7258219853019342\n"
     ]
    },
    {
     "name": "stderr",
     "output_type": "stream",
     "text": [
      "                                                                               \r"
     ]
    },
    {
     "name": "stdout",
     "output_type": "stream",
     "text": [
      "New best reward: 0.8299851745260883\n"
     ]
    },
    {
     "name": "stderr",
     "output_type": "stream",
     "text": [
      "                                                                               \r"
     ]
    },
    {
     "name": "stdout",
     "output_type": "stream",
     "text": [
      "Iteration 15, Ld: 0.09313910910859705, Lq: 1.3394051510095597, Le: 1.3270847254991531, loss_Q: 0.02362373855896294\n",
      "Policy: [5 9 8 3 7 5 2 5 8 2]->[4, 8, 7, 2, 7, 5, 1, 5, 7, 2]\n",
      "Reward: 0.698167791877331\n"
     ]
    },
    {
     "name": "stderr",
     "output_type": "stream",
     "text": [
      "                                                                                \r"
     ]
    },
    {
     "name": "stdout",
     "output_type": "stream",
     "text": [
      "Iteration 20, Ld: 0.07290926711633801, Lq: 1.54933345079422, Le: 1.3971597534418105, loss_Q: 0.02360248427838087\n",
      "Policy: [5 9 8 3 7 5 2 5 8 2]->[5, 8, 7, 3, 6, 5, 2, 5, 7, 2]\n",
      "Reward: 0.6929623115877382\n"
     ]
    },
    {
     "name": "stderr",
     "output_type": "stream",
     "text": [
      "                                                                               \r"
     ]
    }
   ],
   "source": [
    "#from DiffusionQL.DQL_Q_iql import DQL_Q_iql as Agent\n",
    "from DiffusionQL.DQL_Q_esmb import DQL_Q_esmb as Agent\n",
    "\n",
    "print(f\"Expert's Reward:{np.mean(dataset['rewards'])}\")\n",
    "\n",
    "eta = 0.1\n",
    "agent = Agent(state_dim=1, action_dim=1, **hyperparams)\n",
    "iterations = 200\n",
    "batch_size = 100\n",
    "N_episodes = 25\n",
    "best_reward = -np.inf\n",
    "meta_metrics = {'reward': []}\n",
    "for i in range(N_episodes):\n",
    "      metrics = agent.train(data_sampler, iterations, batch_size, tqdm_pos=0)\n",
    "      policy_DQ, _ = extract_deterministic_policy(agent, N_s, N_a, sample_method=\"EAS\", N_sample=10, eta=eta)\n",
    "      reward_DQ, _ = evaluate_diffusionQ(agent, R, P, N_s, N_a, N_iter=100, sample_method=\"EAS\", N_sample=10, eta=eta)\n",
    "      if reward_DQ > best_reward:\n",
    "            best_reward = reward_DQ\n",
    "            agent.save_model(\"Results/mdp\", \"best\")\n",
    "            print(f\"New best reward: {best_reward}\")\n",
    "      meta_metrics['reward'].append(reward_DQ)\n",
    "      if i % 5 == 0:\n",
    "            print(f\"Iteration {i}, Ld: {np.mean(metrics['Ld'])}, \" + \n",
    "                  f\"Lq: {np.mean(metrics['Lq'])}, \" + \n",
    "                  f\"Le: {np.mean(metrics['Le'])}, \" + \n",
    "                  f\"loss_Q: {np.mean(metrics['loss_Q'])}\")\n",
    "            print(f\"Policy: {policy_mdp}->{policy_DQ}\")\n",
    "            print(f\"Reward: {reward_DQ}\")\n",
    "     "
   ]
  },
  {
   "cell_type": "code",
   "execution_count": 16,
   "id": "91da030f",
   "metadata": {},
   "outputs": [
    {
     "name": "stderr",
     "output_type": "stream",
     "text": [
      "                                                                                \r"
     ]
    },
    {
     "name": "stdout",
     "output_type": "stream",
     "text": [
      "Reward: 0.8165979617213471\n",
      "Plot saved to: fig04_policy_heatmap.png\n"
     ]
    },
    {
     "data": {
      "image/png": "[encoded data removed]",
      "text/plain": [
       "<Figure size 600x500 with 2 Axes>"
      ]
     },
     "metadata": {},
     "output_type": "display_data"
    }
   ],
   "source": [
    "agent.load_model(\"Results/mdp\", \"best\")\n",
    "eta = 0.01\n",
    "sample_method = \"EAS\"   \n",
    "_, frequency_DQ = extract_deterministic_policy(agent, N_s, N_a, sample_method=sample_method, N_sample=50, N_sampling=1000, eta=eta)\n",
    "reward_DQ, _ = evaluate_diffusionQ(agent, R, P, N_s, N_a, N_iter=1000, sample_method=sample_method, N_sample=50, eta=eta)\n",
    "print(f\"Reward: {reward_DQ}\")\n",
    "visualize_policy_heatmap(frequency_DQ, policy_mdp, title=\"Policy Heat Map\", save_path=\"fig04_policy_heatmap.png\", figsize=(6, 5))"
   ]
  },
  {
   "cell_type": "code",
   "execution_count": 5,
   "id": "cd53cfc9",
   "metadata": {},
   "outputs": [],
   "source": [
    "#reward_DQ, _ = evaluate_diffusionQ(agent, R, P, N_s, N_a, N_iter=1000, sample_method=\"EAS\", N_sample=10)  \n",
    "#print(f\"Reward: {reward_DQ}\")"
   ]
  }
 ],
 "metadata": {
  "kernelspec": {
   "display_name": "traffic_predictor_3_9",
   "language": "python",
   "name": "python3"
  },
  "language_info": {
   "codemirror_mode": {
    "name": "ipython",
    "version": 3
   },
   "file_extension": ".py",
   "mimetype": "text/x-python",
   "name": "python",
   "nbconvert_exporter": "python",
   "pygments_lexer": "ipython3",
   "version": "3.9.20"
  }
 },
 "nbformat": 4,
 "nbformat_minor": 5
}
